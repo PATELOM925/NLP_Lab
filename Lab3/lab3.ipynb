{
 "cells": [
  {
   "cell_type": "code",
   "execution_count": 2,
   "metadata": {},
   "outputs": [],
   "source": [
    "import spacy"
   ]
  },
  {
   "cell_type": "code",
   "execution_count": null,
   "metadata": {},
   "outputs": [],
   "source": [
    "# !python -m spacy download en_core_web_sm\n",
    "nlp = spacy.load(\"en_core_web_sm\")"
   ]
  },
  {
   "cell_type": "code",
   "execution_count": 7,
   "metadata": {},
   "outputs": [],
   "source": [
    "doc = nlp(u\"I will google about facebook.\")"
   ]
  },
  {
   "cell_type": "code",
   "execution_count": 10,
   "metadata": {},
   "outputs": [
    {
     "data": {
      "text/plain": [
       "'AUX'"
      ]
     },
     "execution_count": 10,
     "metadata": {},
     "output_type": "execute_result"
    }
   ],
   "source": [
    "doc[1].pos_"
   ]
  },
  {
   "cell_type": "code",
   "execution_count": 11,
   "metadata": {},
   "outputs": [
    {
     "data": {
      "text/plain": [
       "'MD'"
      ]
     },
     "execution_count": 11,
     "metadata": {},
     "output_type": "execute_result"
    }
   ],
   "source": [
    "doc[1].tag_"
   ]
  },
  {
   "cell_type": "code",
   "execution_count": 12,
   "metadata": {},
   "outputs": [
    {
     "data": {
      "text/plain": [
       "'measure word'"
      ]
     },
     "execution_count": 12,
     "metadata": {},
     "output_type": "execute_result"
    }
   ],
   "source": [
    "spacy.explain('M')"
   ]
  },
  {
   "cell_type": "code",
   "execution_count": 16,
   "metadata": {},
   "outputs": [
    {
     "name": "stdout",
     "output_type": "stream",
     "text": [
      "I --> PRON PRP pronoun, personal\n",
      "will --> AUX MD verb, modal auxiliary\n",
      "google --> VERB VB verb, base form\n",
      "about --> ADP IN conjunction, subordinating or preposition\n",
      "facebook --> PROPN NNP noun, proper singular\n",
      ". --> PUNCT . punctuation mark, sentence closer\n"
     ]
    }
   ],
   "source": [
    "for word in doc:\n",
    "    print(word.text,'-->', word.pos_ ,word.tag_ , spacy.explain(word.tag_))"
   ]
  },
  {
   "cell_type": "code",
   "execution_count": 24,
   "metadata": {},
   "outputs": [
    {
     "name": "stdout",
     "output_type": "stream",
     "text": [
      "This --> PRON DT determiner\n",
      "is --> AUX VBZ verb, 3rd person singular present\n",
      "mark --> NOUN NN noun, singular or mass\n",
      "zuckerberg --> PROPN NNP noun, proper singular\n",
      "facebooking --> VERB VBG verb, gerund or present participle\n",
      "with --> ADP IN conjunction, subordinating or preposition\n",
      "facebook --> NOUN NN noun, singular or mass\n"
     ]
    }
   ],
   "source": [
    "doc2 = nlp(u\"This is mark zuckerberg facebooking with facebook\")\n",
    "doc3 = nlp(u\"This is your captain OM, Om will fly the plane\")\n",
    "\n",
    "for w in doc2:\n",
    "    print(w.text,'-->', w.pos_ ,w.tag_ , spacy.explain(w.tag_))"
   ]
  },
  {
   "cell_type": "code",
   "execution_count": 25,
   "metadata": {},
   "outputs": [
    {
     "name": "stdout",
     "output_type": "stream",
     "text": [
      "This --> PRON DT determiner\n",
      "is --> AUX VBZ verb, 3rd person singular present\n",
      "your --> PRON PRP$ pronoun, possessive\n",
      "captain --> NOUN NN noun, singular or mass\n",
      "OM --> PROPN NNP noun, proper singular\n",
      ", --> PUNCT , punctuation mark, comma\n",
      "Om --> PROPN NNP noun, proper singular\n",
      "will --> AUX MD verb, modal auxiliary\n",
      "fly --> VERB VB verb, base form\n",
      "the --> DET DT determiner\n",
      "plane --> NOUN NN noun, singular or mass\n"
     ]
    }
   ],
   "source": [
    "for w in doc3:\n",
    "    print(w.text,'-->', w.pos_ ,w.tag_ , spacy.explain(w.tag_))"
   ]
  },
  {
   "cell_type": "code",
   "execution_count": 17,
   "metadata": {},
   "outputs": [
    {
     "name": "stdout",
     "output_type": "stream",
     "text": [
      "I --> PRON PRP pronoun, personal\n",
      "have --> AUX VBP verb, non-3rd person singular present\n",
      "read --> VERB VBN verb, past participle\n",
      "books --> NOUN NNS noun, plural\n",
      "on --> ADP IN conjunction, subordinating or preposition\n",
      "history --> NOUN NN noun, singular or mass\n"
     ]
    }
   ],
   "source": [
    "doc4 = nlp(u\"I have read books on history\")\n",
    "doc5 = nlp(u\"I have read a book on history\")\n",
    "\n",
    "for w in doc4:\n",
    "    print(w.text,'-->', w.pos_ ,w.tag_ , spacy.explain(w.tag_))"
   ]
  },
  {
   "cell_type": "code",
   "execution_count": 18,
   "metadata": {},
   "outputs": [
    {
     "name": "stdout",
     "output_type": "stream",
     "text": [
      "I --> PRON PRP pronoun, personal\n",
      "have --> AUX VBP verb, non-3rd person singular present\n",
      "read --> VERB VBN verb, past participle\n",
      "a --> DET DT determiner\n",
      "book --> NOUN NN noun, singular or mass\n",
      "on --> ADP IN conjunction, subordinating or preposition\n",
      "history --> NOUN NN noun, singular or mass\n"
     ]
    }
   ],
   "source": [
    "for w in doc5:\n",
    "    print(w.text,'-->', w.pos_ ,w.tag_ , spacy.explain(w.tag_))"
   ]
  },
  {
   "cell_type": "code",
   "execution_count": null,
   "metadata": {},
   "outputs": [],
   "source": []
  }
 ],
 "metadata": {
  "kernelspec": {
   "display_name": "base",
   "language": "python",
   "name": "python3"
  },
  "language_info": {
   "codemirror_mode": {
    "name": "ipython",
    "version": 3
   },
   "file_extension": ".py",
   "mimetype": "text/x-python",
   "name": "python",
   "nbconvert_exporter": "python",
   "pygments_lexer": "ipython3",
   "version": "3.12.1"
  }
 },
 "nbformat": 4,
 "nbformat_minor": 2
}
