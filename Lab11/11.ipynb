{
 "cells": [
  {
   "cell_type": "code",
   "execution_count": 2,
   "metadata": {},
   "outputs": [
    {
     "name": "stderr",
     "output_type": "stream",
     "text": [
      "[nltk_data] Downloading package punkt to /Users/om-\n",
      "[nltk_data]     college/nltk_data...\n",
      "[nltk_data]   Package punkt is already up-to-date!\n",
      "[nltk_data] Downloading package stopwords to /Users/om-\n",
      "[nltk_data]     college/nltk_data...\n",
      "[nltk_data]   Package stopwords is already up-to-date!\n"
     ]
    },
    {
     "data": {
      "text/plain": [
       "True"
      ]
     },
     "execution_count": 2,
     "metadata": {},
     "output_type": "execute_result"
    }
   ],
   "source": [
    "import math\n",
    "from collections import Counter\n",
    "from nltk.corpus import stopwords\n",
    "from nltk.tokenize import word_tokenize\n",
    "from nltk.util import ngrams\n",
    "import nltk\n",
    "\n",
    "# Make sure you have NLTK downloaded\n",
    "nltk.download('punkt')\n",
    "nltk.download('stopwords')\n"
   ]
  },
  {
   "cell_type": "code",
   "execution_count": 15,
   "metadata": {},
   "outputs": [],
   "source": [
    "positive_words = [\n",
    "    \"good\", \"great\", \"excellent\", \"awesome\", \"positive\", \"happy\", \"love\", \n",
    "    \"fantastic\", \"amazing\", \"outstanding\", \"wonderful\", \"brilliant\", \"perfect\", \n",
    "    \"superb\", \"satisfied\", \"incredible\", \"delightful\", \"impressive\", \"terrific\", \n",
    "    \"marvelous\", \"exceptional\", \"beautiful\", \"comfortable\", \"joyful\", \"remarkable\", \n",
    "    \"loved\", \"enjoyable\", \"super\", \"pleasing\", \"exciting\", \"affordable\", \"uplifting\", \n",
    "    \"cheerful\", \"dynamic\", \"charming\", \"successful\", \"inspiring\", \"motivating\", \n",
    "    \"fabulous\", \"radiant\", \"rewarding\", \"admirable\", \"pleasant\", \"elevating\", \n",
    "    \"thrilling\", \"outshining\", \"inviting\", \"blessed\", \"refined\", \"gratifying\", \n",
    "    \"heartwarming\", \"joyous\", \"amusing\", \"refreshing\"\n",
    "]\n",
    "\n",
    "negative_words = [\n",
    "    \"bad\", \"poor\", \"terrible\", \"horrible\", \"negative\", \"sad\", \"hate\", \n",
    "    \"awful\", \"dismal\", \"disappointing\", \"frustrating\", \"unpleasant\", \"ugly\", \n",
    "    \"mediocre\", \"unreliable\", \"uncomfortable\", \"regret\", \"worst\", \"undesirable\", \n",
    "    \"dreadful\", \"vile\", \"unfortunate\", \"irritating\", \"depressing\", \"disastrous\", \n",
    "    \"disheartening\", \"underwhelming\", \"frustrating\", \"lousy\", \"horrendous\", \"unhappy\", \n",
    "    \"miserable\", \"hopeless\", \"pathetic\", \"excruciating\", \"lousy\", \"shameful\", \n",
    "    \"regrettable\", \"annoying\", \"embarrassing\", \"disturbing\", \"tragic\", \"painful\", \n",
    "    \"unpleasant\", \"shoddy\", \"crummy\", \"failing\", \"detestable\", \"abysmal\", \n",
    "    \"displeasing\", \"unfortunate\", \"grotesque\", \"nauseating\"\n",
    "]\n"
   ]
  },
  {
   "cell_type": "code",
   "execution_count": 18,
   "metadata": {},
   "outputs": [],
   "source": [
    "\n",
    "# Function to calculate PMI-IR (Pointwise Mutual Information and Information Retrieval)\n",
    "def pmi_ir(word, seed_word, corpus):\n",
    "    \"\"\"Calculate the PMI-IR score between a target word and a seed word\"\"\"\n",
    "    word_count = corpus[word]\n",
    "    seed_word_count = corpus[seed_word]\n",
    "    word_and_seed_count = corpus[(word, seed_word)]\n",
    "    if word_count == 0 or seed_word_count == 0 or word_and_seed_count == 0:\n",
    "        return 0  # Return 0 if any count is zero, as no association is possible\n",
    "    p_word = word_count / sum(corpus.values())\n",
    "    p_seed = seed_word_count / sum(corpus.values())\n",
    "    p_word_given_seed = word_and_seed_count / seed_word_count\n",
    "\n",
    "    return math.log(p_word_given_seed / (p_word * p_seed))\n",
    "\n",
    "# Function to get n-grams from a text\n",
    "def get_ngrams(text, n=1):\n",
    "    \"\"\"Generate n-grams from text\"\"\"\n",
    "    tokens = word_tokenize(text.lower())\n",
    "    tokens = [word for word in tokens if word not in stopwords.words('english')]  # Remove stopwords\n",
    "    return list(ngrams(tokens, n))\n",
    "\n",
    "sample = '''\n",
    "    \"The sky is blue today.\", \"I went to the store.\", \"This chair is comfortable.\", \n",
    "    \"She has a meeting at 3 PM.\", \"The book is on the table.\", \"I will call you later.\", \n",
    "    \"It is raining outside.\", \"He is working on a new project.\", \"I just finished lunch.\", \n",
    "    \"The computer is charging.\", \"I read a book last night.\", \"They are watching TV.\", \n",
    "    \"The car is parked outside.\", \"She is wearing a red dress.\", \"The team will meet tomorrow.\", \n",
    "    \"I like to take walks in the park.\", \"We will have a meeting in the afternoon.\", \n",
    "    \"The laptop is on the desk.\", \"I have an appointment at 10 AM.\", \"It’s a good time to relax.\", \n",
    "    \"I will send the email by tomorrow.\", \"The package arrived yesterday.\", \n",
    "    \"The door is closed.\", \"The phone is on the counter.\", \"She is reading the newspaper.\", \n",
    "    \"They are cleaning the house.\", \"The movie was interesting.\", \"I am going to sleep early.\", \n",
    "    \"We need to buy groceries.\", \"The train is on time.\", \"The office is quiet today.\", \n",
    "    \"I’m feeling neutral today.\", \"The streets are empty.\", \"I have an idea for a new project.\", \n",
    "    \"They just finished their presentation.\", \"I’m attending a webinar later.\", \n",
    "    \"The coffee is hot.\", \"She likes to listen to music in the morning.\", \"I need to organize my desk.\", \n",
    "    \"They are planning a vacation.\", \"I’m just taking a break.\", \"I watched a documentary last night.\", \n",
    "    \"The road is under construction.\", \"I took a nap after lunch.\", \"He is working from home today.\", \n",
    "    \"It’s been a long day.\", \"I’m going to the gym tomorrow.\", \"She enjoys painting.\", \n",
    "    \"We should discuss the plan next week.\", \"I had a sandwich for lunch.\", \n",
    "    \"The weather forecast predicts sunny days.\", \"The bakery is closed today.\",\n",
    "    \"This is a fantastic day!\", \"I am feeling great today.\", \"That was an amazing experience!\", \n",
    "    \"She did an excellent job on her presentation.\", \"I love spending time with my friends.\", \n",
    "    \"This movie was absolutely brilliant.\", \"The food was delicious!\", \"The concert was awesome.\", \n",
    "    \"I’m so proud of what we accomplished.\", \"This is the best thing I’ve ever done.\", \n",
    "    \"You look stunning today!\", \"I had an amazing time at the event.\", \"We had a wonderful evening.\", \n",
    "    \"It’s great to see everyone so happy.\", \"This is a beautiful place.\", \"I’m feeling super excited.\", \n",
    "    \"It’s such a joyous occasion.\", \"I absolutely love the way this turned out.\", \n",
    "    \"The weather is perfect for a walk.\", \"I’m so glad I met you.\", \"This is a lovely surprise!\", \n",
    "    \"What an incredible achievement!\", \"I’m so thankful for everything.\", \"She gave a superb performance.\", \n",
    "    \"It’s a fantastic opportunity.\", \"I’m really enjoying this new project.\", \n",
    "    \"The view from here is breathtaking.\", \"This is exactly what I needed.\", \"You did a fantastic job!\", \n",
    "    \"I’m so happy with the results.\", \"What a beautiful day it is.\", \"This new gadget is amazing.\", \n",
    "    \"I love spending time outdoors.\", \"That was a highly satisfying experience.\", \n",
    "    \"Everything went perfectly!\", \"This place feels so welcoming.\", \"The team did an outstanding job.\", \n",
    "    \"This is a perfect way to relax.\", \"I’m feeling incredibly positive.\", \"What a wonderful day!\", \n",
    "    \"You made my day with that news!\", \"It’s such an inspiring story.\", \"I’m thrilled with the progress we’ve made.\", \n",
    "    \"It’s always a joy to see you.\", \"The energy in the room was fantastic.\", \"This is such a rewarding experience.\", \n",
    "    \"I can’t wait for the next adventure.\", \"This is so refreshing!\", \"It’s been a truly uplifting day.\", \n",
    "    \"I feel so blessed.\",\n",
    "    \"I am having a terrible day.\", \"This situation is awful.\", \"I feel so frustrated right now.\", \n",
    "    \"That was such a disappointing experience.\", \"I am not happy with the results.\", \"I hate this place.\", \n",
    "    \"This is the worst news I’ve heard.\", \"I feel miserable today.\", \"This is such a bad idea.\", \n",
    "    \"I am not feeling great at all.\", \"This food tastes horrible.\", \"That movie was dreadful.\", \n",
    "    \"I’m feeling very negative today.\", \"That was a horrible mistake.\", \"I can’t believe this is happening.\", \n",
    "    \"This has been a very frustrating process.\", \"I hate waiting.\", \"Everything is going wrong today.\", \n",
    "    \"I’m so disappointed with the outcome.\", \"This is the worst experience ever.\", \n",
    "    \"I’m feeling down today.\", \"This is an unpleasant situation.\", \"I had a terrible time at the event.\", \n",
    "    \"I don’t want to talk about it.\", \"This place feels so uncomfortable.\", \"This has been a really awful week.\", \n",
    "    \"I’m so frustrated with the situation.\", \"That was a complete disaster.\", \"This is such a regrettable decision.\", \n",
    "    \"I am not impressed by the results.\", \"I feel so miserable.\", \"This situation is hopeless.\", \n",
    "    \"I really don’t like this idea.\", \"This has been an exhausting day.\", \"I can’t stand this anymore.\", \n",
    "    \"I am extremely upset about this.\", \"This place makes me feel uneasy.\", \"That was an unpleasant experience.\", \n",
    "    \"I am so annoyed right now.\", \"That’s such a terrible thought.\", \"I am just tired of everything.\", \n",
    "    \"I don’t feel like doing anything today.\", \"I feel so bad about what happened.\", \"This is absolutely frustrating.\", \n",
    "    \"I’m really upset with how things turned out.\", \"This is so disappointing.\", \"I hate being stuck in traffic.\", \n",
    "    \"I am done with all of this.\", \"This has been a truly awful experience.\", \"I feel so discouraged.\", \n",
    "    \"This is a nightmare.\", \"I feel so irritated.\", \"That’s such a crummy situation.\"\n",
    "'''\n",
    "\n",
    "\n",
    "corpus = Counter(get_ngrams(sample, 1))  # Unigrams\n",
    "\n",
    "# Function to classify sentiment of a word using Turney's algorithm\n",
    "def turney_sentiment_analysis(word, positive_words, negative_words, corpus):\n",
    "    pos_score = sum([pmi_ir(word, p_word, corpus) for p_word in positive_words])\n",
    "    neg_score = sum([pmi_ir(word, n_word, corpus) for n_word in negative_words])\n",
    "\n",
    "    if pos_score > neg_score:\n",
    "        return \"Positive\"\n",
    "    elif neg_score > pos_score:\n",
    "        return \"Negative\"\n",
    "    else:\n",
    "        return \"Neutral\"\n",
    "\n"
   ]
  },
  {
   "cell_type": "code",
   "execution_count": 20,
   "metadata": {},
   "outputs": [
    {
     "name": "stdout",
     "output_type": "stream",
     "text": [
      "Sentiment of the word 'People study computer science': Neutral\n"
     ]
    }
   ],
   "source": [
    "target_word = \"People study computer science\"\n",
    "sentiment = turney_sentiment_analysis(target_word, positive_words, negative_words, corpus)\n",
    "print(f\"Sentiment of the word '{target_word}': {sentiment}\")"
   ]
  },
  {
   "cell_type": "code",
   "execution_count": null,
   "metadata": {},
   "outputs": [],
   "source": []
  }
 ],
 "metadata": {
  "kernelspec": {
   "display_name": "base",
   "language": "python",
   "name": "python3"
  },
  "language_info": {
   "codemirror_mode": {
    "name": "ipython",
    "version": 3
   },
   "file_extension": ".py",
   "mimetype": "text/x-python",
   "name": "python",
   "nbconvert_exporter": "python",
   "pygments_lexer": "ipython3",
   "version": "3.12.1"
  }
 },
 "nbformat": 4,
 "nbformat_minor": 2
}
