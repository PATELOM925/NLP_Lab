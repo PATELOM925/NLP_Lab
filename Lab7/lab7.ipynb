{
 "cells": [
  {
   "cell_type": "markdown",
   "metadata": {},
   "source": [
    "## Minimum Edit Distance From Scratch"
   ]
  },
  {
   "cell_type": "code",
   "execution_count": 10,
   "metadata": {},
   "outputs": [],
   "source": [
    "word1 = \"INTENTION\"\n",
    "word2 = \"EXECUTION\""
   ]
  },
  {
   "cell_type": "code",
   "execution_count": 11,
   "metadata": {},
   "outputs": [
    {
     "data": {
      "text/plain": [
       "9"
      ]
     },
     "execution_count": 11,
     "metadata": {},
     "output_type": "execute_result"
    }
   ],
   "source": [
    "length = len(word1)\n",
    "length"
   ]
  },
  {
   "cell_type": "code",
   "execution_count": 12,
   "metadata": {},
   "outputs": [
    {
     "name": "stdout",
     "output_type": "stream",
     "text": [
      "['N', 'O', 'I', 'T', 'N', '*', 'E', 'T', 'N']\n",
      "['N', 'O', 'I', 'T', 'U', 'C', 'E', 'X']\n"
     ]
    }
   ],
   "source": [
    "count = 0\n",
    "new1 = []\n",
    "new2 = []\n",
    "length = len(word1)-1\n",
    "\n",
    "\n",
    "for i in range(length):\n",
    "    if word1[length-i]==word2[length-i]:\n",
    "        new1.append(word1[length-i])\n",
    "        new2.append(word2[length-i])\n",
    "    elif word1[length-i]==word2[length-i-1]:\n",
    "        new1.append(\"*\")\n",
    "        new1.append(word1[length-i])\n",
    "        new2.append(word2[length-i])\n",
    "        count+=1\n",
    "    else:\n",
    "        new1.append(word1[length-i])\n",
    "        new2.append(word2[length-i])\n",
    "        \n",
    "print(new1)\n",
    "print(new2)"
   ]
  },
  {
   "cell_type": "code",
   "execution_count": 13,
   "metadata": {},
   "outputs": [
    {
     "data": {
      "text/plain": [
       "['I', 'N', 'T', 'E', 'N', 'T', 'I', 'O', 'N']"
      ]
     },
     "execution_count": 13,
     "metadata": {},
     "output_type": "execute_result"
    }
   ],
   "source": [
    "w1 = \"INTENTION\"\n",
    "word1 = list(w1)\n",
    "w2 = \"EXECUTION\"\n",
    "word2 = list(w2)\n",
    "word1"
   ]
  },
  {
   "cell_type": "code",
   "execution_count": 5,
   "metadata": {},
   "outputs": [
    {
     "name": "stdout",
     "output_type": "stream",
     "text": [
      "S\n",
      "['G', 'E', 'E', 'X', 'S', 'F', 'R', 'G', 'E', 'E', 'K', 'K', 'S']\n",
      "S\n",
      "['G', 'E', 'E', 'K', 'S', 'F', 'O', 'R', 'G', 'E', 'E', 'K', 'S']\n",
      " \n",
      "K\n",
      "['G', 'E', 'E', 'X', 'S', 'F', 'R', 'G', 'E', 'E', 'K', 'K', 'S']\n",
      "K\n",
      "['G', 'E', 'E', 'K', 'S', 'F', 'O', 'R', 'G', 'E', 'E', 'K', 'S']\n",
      " \n",
      "E\n",
      "['G', 'E', 'E', 'X', 'S', 'F', 'R', 'G', 'E', 'E', 'K', 'K', 'S']\n",
      "E\n",
      "['G', 'E', 'E', 'K', 'S', 'F', 'O', 'R', 'G', 'E', 'E', 'K', 'S']\n",
      " \n",
      "F\n",
      "['G', 'E', 'E', 'X', 'S', 'F', 'R', 'G', 'E', 'E', 'K', 'K', 'S']\n",
      "F\n",
      "['G', 'E', 'E', 'K', 'S', 'F', 'O', 'R', 'G', 'E', 'E', 'K', 'S']\n",
      " \n",
      "S\n",
      "['G', 'E', 'E', 'X', 'S', 'F', 'R', 'G', 'E', 'E', 'K', 'K', 'S']\n",
      "S\n",
      "['G', 'E', 'E', 'K', 'S', 'F', 'O', 'R', 'G', 'E', 'E', 'K', 'S']\n",
      " \n",
      "E\n",
      "['G', 'E', 'E', 'X', 'S', 'F', 'R', 'G', 'E', 'E', 'K', 'K', 'S']\n",
      "E\n",
      "['G', 'E', 'E', 'K', 'S', 'F', 'O', 'R', 'G', 'E', 'E', 'K', 'S']\n",
      " \n",
      "E\n",
      "['G', 'E', 'E', 'X', 'S', 'F', 'R', 'G', 'E', 'E', 'K', 'K', 'S']\n",
      "E\n",
      "['G', 'E', 'E', 'K', 'S', 'F', 'O', 'R', 'G', 'E', 'E', 'K', 'S']\n",
      " \n",
      "['G', 'E', 'E', 'X', 'S', 'F', 'R', 'G', 'E', 'E', 'K', 'K', 'S']\n",
      "['G', 'E', 'E', 'K', 'S', 'F', 'O', 'R', 'G', 'E', 'E', 'K', 'S']\n"
     ]
    }
   ],
   "source": [
    "w1 = \"GEEXSFRGEEKKS\"\n",
    "word1 = list(w1)\n",
    "w2 = \"GEEKSFORGEEKS\"\n",
    "word2 = list(w2)\n",
    "word1\n",
    "\n",
    "\n",
    "count = 0\n",
    "new1 = []\n",
    "new2 = []\n",
    "length = len(word1)-1\n",
    "\n",
    "\n",
    "for i in range(length):\n",
    "    \n",
    "    if word1[length-i]==word2[length-i]:\n",
    "        print(word1[length-i])\n",
    "        print(word1)\n",
    "        print(word2[length-i])\n",
    "        print(word2)\n",
    "        print(\" \")\n",
    "        continue\n",
    "    elif word1[length-i]==word2[length-i-1]:\n",
    "        word1.insert(length-i+1, \"*\")\n",
    "        print(word1[length-i])\n",
    "        print(word1)\n",
    "        print(word2[length-i-1])\n",
    "        print(word2)\n",
    "        print(\" \")\n",
    "        count+=1\n",
    "    # elif word1[length-i]!=word2[length-i]:\n",
    "    #     print(word1)\n",
    "    #     print(word2)\n",
    "    #     print(\" \")\n",
    "    #     continue\n",
    "for i in range(count):\n",
    "    word2.insert(0, \"*\")\n",
    "print(word1)\n",
    "print(word2)"
   ]
  },
  {
   "cell_type": "code",
   "execution_count": 14,
   "metadata": {},
   "outputs": [
    {
     "name": "stdout",
     "output_type": "stream",
     "text": [
      "['G', 'E', 'E', 'K', 'S', 'F', 'O', 'R', 'G', 'E', 'E', 'K', 'S']\n",
      "['G', 'E', 'E', 'X', 'S', 'F', 'R', 'G', 'E', 'E', 'K', 'K', 'S']\n",
      " \n",
      "['G', 'E', 'E', 'K', 'S', 'F', 'O', 'R', 'G', 'E', 'E', 'K', 'S']\n",
      "['G', 'E', 'E', 'X', 'S', 'F', 'R', 'G', 'E', 'E', 'K', 'K', 'S']\n",
      " \n",
      "['G', 'E', 'E', 'K', 'S', 'F', 'O', 'R', 'G', 'E', 'E', 'K', 'S']\n",
      "['G', 'E', 'E', 'X', 'S', 'F', 'R', 'G', 'E', 'E', 'K', 'K', 'S']\n",
      " \n",
      " \n",
      "['G', 'E', 'E', 'K', 'S', 'F', 'O', 'R', 'G', 'E', 'E', '*', 'K', 'S']\n",
      "['*', 'G', 'E', 'E', 'X', 'S', 'F', 'R', 'G', 'E', 'E', 'K', 'K', 'S']\n",
      " \n",
      "['G', 'E', 'E', 'K', 'S', 'F', 'O', 'R', 'G', 'E', 'E', '*', 'K', 'S']\n",
      "['*', 'G', 'E', 'E', 'X', 'S', 'F', 'R', 'G', 'E', 'E', 'K', 'K', 'S']\n",
      " \n",
      "['G', 'E', 'E', 'K', 'S', 'F', 'O', 'R', 'G', 'E', 'E', '*', 'K', 'S']\n",
      "['*', 'G', 'E', 'E', 'X', 'S', 'F', 'R', 'G', 'E', 'E', 'K', 'K', 'S']\n",
      " \n",
      "['G', 'E', 'E', 'K', 'S', 'F', 'O', 'R', 'G', 'E', 'E', '*', 'K', 'S']\n",
      "['*', 'G', 'E', 'E', 'X', 'S', 'F', 'R', 'G', 'E', 'E', 'K', 'K', 'S']\n",
      " \n",
      "['G', 'E', 'E', 'K', 'S', 'F', 'O', 'R', 'G', 'E', 'E', '*', 'K', 'S']\n",
      "['*', 'G', 'E', 'E', 'X', 'S', 'F', 'R', 'G', 'E', 'E', 'K', 'K', 'S']\n",
      " \n",
      "['*', 'G', 'E', 'E', 'K', 'S', 'F', 'O', 'R', 'G', 'E', 'E', '*', 'K', 'S']\n",
      "['*', 'G', 'E', 'E', 'X', 'S', 'F', '*', 'R', 'G', 'E', 'E', 'K', 'K', 'S']\n",
      " \n",
      "['*', 'G', 'E', 'E', 'K', 'S', 'F', 'O', 'R', 'G', 'E', 'E', '*', 'K', 'S']\n",
      "['*', 'G', 'E', 'E', 'X', 'S', 'F', '*', 'R', 'G', 'E', 'E', 'K', 'K', 'S']\n",
      " \n",
      "['*', 'G', 'E', 'E', 'K', 'S', 'F', 'O', 'R', 'G', 'E', 'E', '*', 'K', 'S']\n",
      "['*', 'G', 'E', 'E', 'X', 'S', 'F', '*', 'R', 'G', 'E', 'E', 'K', 'K', 'S']\n",
      " \n",
      "['*', 'G', 'E', 'E', 'K', 'S', 'F', 'O', 'R', 'G', 'E', 'E', '*', 'K', 'S']\n",
      "['*', 'G', 'E', 'E', 'X', 'S', 'F', '*', 'R', 'G', 'E', 'E', 'K', 'K', 'S']\n",
      " \n",
      "['*', 'G', 'E', 'E', 'K', 'S', 'F', 'O', 'R', 'G', 'E', 'E', '*', 'K', 'S']\n",
      "['*', 'G', 'E', 'E', 'X', 'S', 'F', '*', 'R', 'G', 'E', 'E', 'K', 'K', 'S']\n"
     ]
    }
   ],
   "source": [
    "w1 = \"GEEXSFRGEEKKS\"\n",
    "word2 = list(w1)\n",
    "w2 = \"GEEKSFORGEEKS\"\n",
    "word1 = list(w2)\n",
    "word1\n",
    "\n",
    "\n",
    "count = 0\n",
    "new1 = []\n",
    "new2 = []\n",
    "length = len(word1)-1\n",
    "\n",
    "\n",
    "for i in range(length):\n",
    "    print(word1)\n",
    "    print(word2)\n",
    "    print(\" \")\n",
    "    if word1[length-i]==word2[length-i]:\n",
    "        # print(word1[length-i])\n",
    "        # print(word1)\n",
    "        # print(word2[length-i])\n",
    "        # print(word2)\n",
    "        # print(\" \")\n",
    "        continue\n",
    "    elif word1[length-i]==word2[length-i-1]:\n",
    "        word1.insert(length-i+1, \"*\")\n",
    "        word2.insert(0, \"*\")\n",
    "        # print(word1[length-i])\n",
    "        # print(word1)\n",
    "        # print(word2[length-i-1])\n",
    "        # print(word2)\n",
    "        print(\" \")\n",
    "        count+=1\n",
    "    elif word1[length-i]==word2[length-i+1]:\n",
    "        word2.insert(length-i+2, \"*\")\n",
    "        word1.insert(0, \"*\")\n",
    "    # elif word1[length-i]!=word2[length-i]:\n",
    "    #     print(word1)\n",
    "    #     print(word2)\n",
    "    #     print(\" \")\n",
    "    #     continue\n",
    "\n",
    "print(word1)\n",
    "print(word2)"
   ]
  },
  {
   "cell_type": "code",
   "execution_count": 7,
   "metadata": {},
   "outputs": [
    {
     "name": "stdout",
     "output_type": "stream",
     "text": [
      " \n",
      "['I', 'N', 'T', 'E', '*', 'N', 'T', 'I', 'O', 'N']\n",
      "['*', 'E', 'X', 'E', 'C', 'U', 'T', 'I', 'O', 'N']\n"
     ]
    }
   ],
   "source": [
    "w1 = \"INTENTION\"\n",
    "word1 = list(w1)\n",
    "w2 = \"EXECUTION\"\n",
    "word2 = list(w2)\n",
    "word1\n",
    "\n",
    "\n",
    "count = 0\n",
    "new1 = []\n",
    "new2 = []\n",
    "length = len(word1)-1\n",
    "\n",
    "\n",
    "for i in range(length):\n",
    "    if word1[length-i]==word2[length-i]:\n",
    "        # print(word1[length-i])\n",
    "        # print(word1)\n",
    "        # print(word2[length-i])\n",
    "        # print(word2)\n",
    "        # print(\" \")\n",
    "        continue\n",
    "    elif word1[length-i]==word2[length-i-1]:\n",
    "        word1.insert(length-i+1, \"*\")\n",
    "        word2.insert(0, \"*\")\n",
    "        # print(word1[length-i])\n",
    "        # print(word1)\n",
    "        # print(word2[length-i-1])\n",
    "        # print(word2)\n",
    "        print(\" \")\n",
    "        count+=1\n",
    "    elif word1[length-i]==word2[length-i+1]:\n",
    "        word2.insert(length-i+2, \"*\")\n",
    "        word1.insert(0, \"*\")\n",
    "    # elif word1[length-i]!=word2[length-i]:\n",
    "    #     print(word1)\n",
    "    #     print(word2)\n",
    "    #     print(\" \")\n",
    "    #     continue\n",
    "# for i in range(count):\n",
    "#     word2.insert(0, \"*\")\n",
    "print(word1)\n",
    "print(word2)"
   ]
  },
  {
   "cell_type": "code",
   "execution_count": 15,
   "metadata": {},
   "outputs": [
    {
     "name": "stdout",
     "output_type": "stream",
     "text": [
      "['E', 'X', 'E', 'C', 'U', 'T', 'I', 'O', 'N']\n",
      "['E', 'X', 'E', 'C', 'U', 'T', 'I', 'O', 'N']\n",
      "8\n"
     ]
    }
   ],
   "source": [
    "w1 = ['I', 'N', 'T', 'E', '*', 'N', 'T', 'I', 'O', 'N']\n",
    "w2 = ['*', 'E', 'X', 'E', 'C', 'U', 'T', 'I', 'O', 'N']\n",
    "dist = 0\n",
    "for i in range(len(w1)-1):\n",
    "    if w1[i]==\"*\":\n",
    "        w1[i]=w2[i]\n",
    "        dist+=1\n",
    "    elif w2[i]==\"*\":\n",
    "        w1[i]=w2[i]\n",
    "        dist+=1\n",
    "    elif w1[i]!=w2[i]:\n",
    "        w1[i]=w2[i]\n",
    "        dist+=2\n",
    "        \n",
    "for i in range(len(w1)-1):\n",
    "    if w1[i]==\"*\" and w2[i]==\"*\":\n",
    "        w1.pop(i)\n",
    "        w2.pop(i)\n",
    "print(w1)\n",
    "print(w2)\n",
    "print(dist)"
   ]
  },
  {
   "cell_type": "code",
   "execution_count": 21,
   "metadata": {},
   "outputs": [
    {
     "name": "stdout",
     "output_type": "stream",
     "text": [
      "Edit Distance Matrix:\n",
      "[0, 1, 2, 3, 4, 5, 6, 7, 8, 9]\n",
      "[1, 2, 3, 4, 5, 6, 7, 6, 7, 8]\n",
      "[2, 3, 4, 5, 6, 7, 8, 7, 8, 7]\n",
      "[3, 4, 5, 6, 7, 8, 7, 8, 9, 8]\n",
      "[4, 3, 4, 5, 6, 7, 8, 9, 10, 9]\n",
      "[5, 4, 5, 6, 7, 8, 9, 10, 11, 10]\n",
      "[6, 5, 6, 7, 8, 9, 8, 9, 10, 11]\n",
      "[7, 6, 7, 8, 9, 10, 9, 8, 9, 10]\n",
      "[8, 7, 8, 9, 10, 11, 10, 9, 8, 9]\n",
      "[9, 8, 9, 10, 11, 12, 11, 10, 9, 8]\n"
     ]
    }
   ],
   "source": [
    "import numpy as np\n",
    "\n",
    "def min_edit_dist(str1, str2):\n",
    "    n = len(str1)\n",
    "    m = len(str2)\n",
    "    dp = [[0 for _ in range(m+1)] for _ in range(n+1)]\n",
    "    # dp = np.zeros((n+1, m+1), dtype=int)\n",
    "\n",
    "    for i in range(1, n+1):\n",
    "        dp[i][0] = i\n",
    "    for j in range(1, m+1):\n",
    "        dp[0][j] = j\n",
    "\n",
    "    for i in range(1, n+1):\n",
    "        for j in range(1, m+1):\n",
    "            if str1[i-1] == str2[j-1]:\n",
    "                dp[i][j] = dp[i-1][j-1]  \n",
    "            else:\n",
    "                insertion = dp[i][j-1] + 1\n",
    "                deletion = dp[i-1][j] + 1\n",
    "                if str1[i-1] == str2[j-1]:       \n",
    "                    substitution = dp[i-1][j-1]+0\n",
    "                else:\n",
    "                    substitution = dp[i-1][j-1]+2\n",
    "                dp[i][j] = min(insertion, deletion, substitution) \n",
    " \n",
    "    print(\"Edit Distance Matrix:\")\n",
    "    for row in dp:\n",
    "        print(row)\n",
    "    return dp\n",
    "\n",
    "wo1 = \"INTENTION\"\n",
    "wo2 = \"EXECUTION\"\n",
    "output = min_edit_dist(wo1, wo2)"
   ]
  },
  {
   "cell_type": "code",
   "execution_count": 32,
   "metadata": {},
   "outputs": [
    {
     "name": "stdout",
     "output_type": "stream",
     "text": [
      "Edit Distance Matrix:\n",
      "[[ 9  8  7  8  9 10 11 10  9  8]\n",
      " [ 8  7  8  9 10 11 10  9  8  9]\n",
      " [ 7  6  7  8  9 10  9  8  9 10]\n",
      " [ 6  7  8  7  8  9  8  9 10 11]\n",
      " [ 5  6  7  8  7  8  9 10 11 12]\n",
      " [ 4  5  6  7  6  7  8  9 10 11]\n",
      " [ 3  4  5  6  5  6  7  8  9 10]\n",
      " [ 2  3  4  5  4  5  6  7  8  9]\n",
      " [ 1  2  3  4  3  4  5  6  7  8]\n",
      " [ 0  1  2  3  4  5  6  7  8  9]]\n"
     ]
    }
   ],
   "source": [
    "import numpy as np\n",
    "\n",
    "def min_edit_dist(s1, s2):\n",
    "    n = len(s1)\n",
    "    m = len(s1)\n",
    "    # dp = [[0 for _ in range(m+1)] for _ in range(n+1)]\n",
    "    dp = np.zeros((n+1, m+1), dtype=int)\n",
    "\n",
    "    for i in range(1, n+1):\n",
    "        dp[i][0] = i\n",
    "    for j in range(1, m+1):\n",
    "        dp[0][j] = j\n",
    "\n",
    "    for i in range(1, n+1):\n",
    "        for j in range(1, m+1):\n",
    "            if s1[i-1] == s2[j-1]:\n",
    "                dp[i][j] = dp[i-1][j-1]  \n",
    "            else:\n",
    "                insertion = dp[i][j-1] + 1\n",
    "                deletion = dp[i-1][j] + 1\n",
    "                if s1[i-1] == s2[j-1]:       \n",
    "                    substitution = dp[i-1][j-1]+0\n",
    "                else:\n",
    "                    substitution = dp[i-1][j-1]+2\n",
    "                dp[i][j] = min(insertion, deletion, substitution) \n",
    " \n",
    "    print(\"Edit Distance Matrix:\")\n",
    "    rotated_dp = np.rot90(dp, k=1)\n",
    "    print(rotated_dp)\n",
    "    \n",
    "\n",
    "wo1 = \"INTENTION\"\n",
    "wo2 = \"EXECUTION\"\n",
    "output = min_edit_dist(wo1, wo2)"
   ]
  },
  {
   "cell_type": "code",
   "execution_count": null,
   "metadata": {},
   "outputs": [],
   "source": []
  }
 ],
 "metadata": {
  "kernelspec": {
   "display_name": "Python 3",
   "language": "python",
   "name": "python3"
  },
  "language_info": {
   "codemirror_mode": {
    "name": "ipython",
    "version": 3
   },
   "file_extension": ".py",
   "mimetype": "text/x-python",
   "name": "python",
   "nbconvert_exporter": "python",
   "pygments_lexer": "ipython3",
   "version": "3.12.1"
  }
 },
 "nbformat": 4,
 "nbformat_minor": 2
}
