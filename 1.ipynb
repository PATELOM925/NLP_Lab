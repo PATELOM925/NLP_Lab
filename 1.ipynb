{
 "cells": [
  {
   "cell_type": "code",
   "execution_count": 201,
   "metadata": {},
   "outputs": [
    {
     "name": "stderr",
     "output_type": "stream",
     "text": [
      "[nltk_data] Downloading package stopwords to /Users/om-\n",
      "[nltk_data]     college/nltk_data...\n",
      "[nltk_data]   Package stopwords is already up-to-date!\n"
     ]
    }
   ],
   "source": [
    "import pandas as pd\n",
    "import numpy as np\n",
    "import nltk\n",
    "from sklearn.feature_extraction.text import TfidfVectorizer\n",
    "from nltk.tokenize import sent_tokenize,word_tokenize\n",
    "nltk.download('stopwords')\n",
    "from nltk.corpus import stopwords\n",
    "import string\n"
   ]
  },
  {
   "cell_type": "code",
   "execution_count": 202,
   "metadata": {},
   "outputs": [
    {
     "name": "stdout",
     "output_type": "stream",
     "text": [
      "179\n",
      "['i', 'me', 'my', 'myself', 'we', 'our', 'ours', 'ourselves', 'you', \"you're\", \"you've\", \"you'll\", \"you'd\", 'your', 'yours', 'yourself', 'yourselves', 'he', 'him', 'his', 'himself', 'she', \"she's\", 'her', 'hers', 'herself', 'it', \"it's\", 'its', 'itself', 'they', 'them', 'their', 'theirs', 'themselves', 'what', 'which', 'who', 'whom', 'this', 'that', \"that'll\", 'these', 'those', 'am', 'is', 'are', 'was', 'were', 'be', 'been', 'being', 'have', 'has', 'had', 'having', 'do', 'does', 'did', 'doing', 'a', 'an', 'the', 'and', 'but', 'if', 'or', 'because', 'as', 'until', 'while', 'of', 'at', 'by', 'for', 'with', 'about', 'against', 'between', 'into', 'through', 'during', 'before', 'after', 'above', 'below', 'to', 'from', 'up', 'down', 'in', 'out', 'on', 'off', 'over', 'under', 'again', 'further', 'then', 'once', 'here', 'there', 'when', 'where', 'why', 'how', 'all', 'any', 'both', 'each', 'few', 'more', 'most', 'other', 'some', 'such', 'no', 'nor', 'not', 'only', 'own', 'same', 'so', 'than', 'too', 'very', 's', 't', 'can', 'will', 'just', 'don', \"don't\", 'should', \"should've\", 'now', 'd', 'll', 'm', 'o', 're', 've', 'y', 'ain', 'aren', \"aren't\", 'couldn', \"couldn't\", 'didn', \"didn't\", 'doesn', \"doesn't\", 'hadn', \"hadn't\", 'hasn', \"hasn't\", 'haven', \"haven't\", 'isn', \"isn't\", 'ma', 'mightn', \"mightn't\", 'mustn', \"mustn't\", 'needn', \"needn't\", 'shan', \"shan't\", 'shouldn', \"shouldn't\", 'wasn', \"wasn't\", 'weren', \"weren't\", 'won', \"won't\", 'wouldn', \"wouldn't\"]\n"
     ]
    }
   ],
   "source": [
    "english = stopwords.words('english')\n",
    "print(len(english))\n",
    "print(english)"
   ]
  },
  {
   "cell_type": "code",
   "execution_count": 156,
   "metadata": {},
   "outputs": [
    {
     "data": {
      "text/html": [
       "<div>\n",
       "<style scoped>\n",
       "    .dataframe tbody tr th:only-of-type {\n",
       "        vertical-align: middle;\n",
       "    }\n",
       "\n",
       "    .dataframe tbody tr th {\n",
       "        vertical-align: top;\n",
       "    }\n",
       "\n",
       "    .dataframe thead th {\n",
       "        text-align: right;\n",
       "    }\n",
       "</style>\n",
       "<table border=\"1\" class=\"dataframe\">\n",
       "  <thead>\n",
       "    <tr style=\"text-align: right;\">\n",
       "      <th></th>\n",
       "      <th>author</th>\n",
       "      <th>date</th>\n",
       "      <th>headlines</th>\n",
       "      <th>read_more</th>\n",
       "      <th>text</th>\n",
       "      <th>ctext</th>\n",
       "    </tr>\n",
       "  </thead>\n",
       "  <tbody>\n",
       "    <tr>\n",
       "      <th>0</th>\n",
       "      <td>Chhavi Tyagi</td>\n",
       "      <td>03 Aug 2017,Thursday</td>\n",
       "      <td>Daman &amp; Diu revokes mandatory Rakshabandhan in...</td>\n",
       "      <td>http://www.hindustantimes.com/india-news/raksh...</td>\n",
       "      <td>The Administration of Union Territory Daman an...</td>\n",
       "      <td>The Daman and Diu administration on Wednesday ...</td>\n",
       "    </tr>\n",
       "    <tr>\n",
       "      <th>1</th>\n",
       "      <td>Daisy Mowke</td>\n",
       "      <td>03 Aug 2017,Thursday</td>\n",
       "      <td>Malaika slams user who trolled her for 'divorc...</td>\n",
       "      <td>http://www.hindustantimes.com/bollywood/malaik...</td>\n",
       "      <td>Malaika Arora slammed an Instagram user who tr...</td>\n",
       "      <td>From her special numbers to TV?appearances, Bo...</td>\n",
       "    </tr>\n",
       "    <tr>\n",
       "      <th>2</th>\n",
       "      <td>Arshiya Chopra</td>\n",
       "      <td>03 Aug 2017,Thursday</td>\n",
       "      <td>'Virgin' now corrected to 'Unmarried' in IGIMS...</td>\n",
       "      <td>http://www.hindustantimes.com/patna/bihar-igim...</td>\n",
       "      <td>The Indira Gandhi Institute of Medical Science...</td>\n",
       "      <td>The Indira Gandhi Institute of Medical Science...</td>\n",
       "    </tr>\n",
       "    <tr>\n",
       "      <th>3</th>\n",
       "      <td>Sumedha Sehra</td>\n",
       "      <td>03 Aug 2017,Thursday</td>\n",
       "      <td>Aaj aapne pakad liya: LeT man Dujana before be...</td>\n",
       "      <td>http://indiatoday.intoday.in/story/abu-dujana-...</td>\n",
       "      <td>Lashkar-e-Taiba's Kashmir commander Abu Dujana...</td>\n",
       "      <td>Lashkar-e-Taiba's Kashmir commander Abu Dujana...</td>\n",
       "    </tr>\n",
       "    <tr>\n",
       "      <th>4</th>\n",
       "      <td>Aarushi Maheshwari</td>\n",
       "      <td>03 Aug 2017,Thursday</td>\n",
       "      <td>Hotel staff to get training to spot signs of s...</td>\n",
       "      <td>http://indiatoday.intoday.in/story/sex-traffic...</td>\n",
       "      <td>Hotels in Maharashtra will train their staff t...</td>\n",
       "      <td>Hotels in Mumbai and other Indian cities are t...</td>\n",
       "    </tr>\n",
       "  </tbody>\n",
       "</table>\n",
       "</div>"
      ],
      "text/plain": [
       "               author                  date  \\\n",
       "0        Chhavi Tyagi  03 Aug 2017,Thursday   \n",
       "1         Daisy Mowke  03 Aug 2017,Thursday   \n",
       "2      Arshiya Chopra  03 Aug 2017,Thursday   \n",
       "3       Sumedha Sehra  03 Aug 2017,Thursday   \n",
       "4  Aarushi Maheshwari  03 Aug 2017,Thursday   \n",
       "\n",
       "                                           headlines  \\\n",
       "0  Daman & Diu revokes mandatory Rakshabandhan in...   \n",
       "1  Malaika slams user who trolled her for 'divorc...   \n",
       "2  'Virgin' now corrected to 'Unmarried' in IGIMS...   \n",
       "3  Aaj aapne pakad liya: LeT man Dujana before be...   \n",
       "4  Hotel staff to get training to spot signs of s...   \n",
       "\n",
       "                                           read_more  \\\n",
       "0  http://www.hindustantimes.com/india-news/raksh...   \n",
       "1  http://www.hindustantimes.com/bollywood/malaik...   \n",
       "2  http://www.hindustantimes.com/patna/bihar-igim...   \n",
       "3  http://indiatoday.intoday.in/story/abu-dujana-...   \n",
       "4  http://indiatoday.intoday.in/story/sex-traffic...   \n",
       "\n",
       "                                                text  \\\n",
       "0  The Administration of Union Territory Daman an...   \n",
       "1  Malaika Arora slammed an Instagram user who tr...   \n",
       "2  The Indira Gandhi Institute of Medical Science...   \n",
       "3  Lashkar-e-Taiba's Kashmir commander Abu Dujana...   \n",
       "4  Hotels in Maharashtra will train their staff t...   \n",
       "\n",
       "                                               ctext  \n",
       "0  The Daman and Diu administration on Wednesday ...  \n",
       "1  From her special numbers to TV?appearances, Bo...  \n",
       "2  The Indira Gandhi Institute of Medical Science...  \n",
       "3  Lashkar-e-Taiba's Kashmir commander Abu Dujana...  \n",
       "4  Hotels in Mumbai and other Indian cities are t...  "
      ]
     },
     "execution_count": 156,
     "metadata": {},
     "output_type": "execute_result"
    }
   ],
   "source": [
    "df = pd.read_csv('summary.csv',encoding=\"latin-1\")\n",
    "df.head()"
   ]
  },
  {
   "cell_type": "code",
   "execution_count": 203,
   "metadata": {},
   "outputs": [
    {
     "data": {
      "text/html": [
       "<div>\n",
       "<style scoped>\n",
       "    .dataframe tbody tr th:only-of-type {\n",
       "        vertical-align: middle;\n",
       "    }\n",
       "\n",
       "    .dataframe tbody tr th {\n",
       "        vertical-align: top;\n",
       "    }\n",
       "\n",
       "    .dataframe thead th {\n",
       "        text-align: right;\n",
       "    }\n",
       "</style>\n",
       "<table border=\"1\" class=\"dataframe\">\n",
       "  <thead>\n",
       "    <tr style=\"text-align: right;\">\n",
       "      <th></th>\n",
       "      <th>text</th>\n",
       "      <th>ctext</th>\n",
       "    </tr>\n",
       "  </thead>\n",
       "  <tbody>\n",
       "    <tr>\n",
       "      <th>0</th>\n",
       "      <td>The Administration of Union Territory Daman an...</td>\n",
       "      <td>The Daman and Diu administration on Wednesday ...</td>\n",
       "    </tr>\n",
       "    <tr>\n",
       "      <th>1</th>\n",
       "      <td>Malaika Arora slammed an Instagram user who tr...</td>\n",
       "      <td>From her special numbers to TV?appearances, Bo...</td>\n",
       "    </tr>\n",
       "    <tr>\n",
       "      <th>2</th>\n",
       "      <td>The Indira Gandhi Institute of Medical Science...</td>\n",
       "      <td>The Indira Gandhi Institute of Medical Science...</td>\n",
       "    </tr>\n",
       "    <tr>\n",
       "      <th>3</th>\n",
       "      <td>Lashkar-e-Taiba's Kashmir commander Abu Dujana...</td>\n",
       "      <td>Lashkar-e-Taiba's Kashmir commander Abu Dujana...</td>\n",
       "    </tr>\n",
       "    <tr>\n",
       "      <th>4</th>\n",
       "      <td>Hotels in Maharashtra will train their staff t...</td>\n",
       "      <td>Hotels in Mumbai and other Indian cities are t...</td>\n",
       "    </tr>\n",
       "  </tbody>\n",
       "</table>\n",
       "</div>"
      ],
      "text/plain": [
       "                                                text  \\\n",
       "0  The Administration of Union Territory Daman an...   \n",
       "1  Malaika Arora slammed an Instagram user who tr...   \n",
       "2  The Indira Gandhi Institute of Medical Science...   \n",
       "3  Lashkar-e-Taiba's Kashmir commander Abu Dujana...   \n",
       "4  Hotels in Maharashtra will train their staff t...   \n",
       "\n",
       "                                               ctext  \n",
       "0  The Daman and Diu administration on Wednesday ...  \n",
       "1  From her special numbers to TV?appearances, Bo...  \n",
       "2  The Indira Gandhi Institute of Medical Science...  \n",
       "3  Lashkar-e-Taiba's Kashmir commander Abu Dujana...  \n",
       "4  Hotels in Mumbai and other Indian cities are t...  "
      ]
     },
     "execution_count": 203,
     "metadata": {},
     "output_type": "execute_result"
    }
   ],
   "source": [
    "df1 = df.drop(columns=['author','date','headlines','read_more'])\n",
    "df1.head()"
   ]
  },
  {
   "cell_type": "code",
   "execution_count": 185,
   "metadata": {},
   "outputs": [
    {
     "data": {
      "text/html": [
       "<div>\n",
       "<style scoped>\n",
       "    .dataframe tbody tr th:only-of-type {\n",
       "        vertical-align: middle;\n",
       "    }\n",
       "\n",
       "    .dataframe tbody tr th {\n",
       "        vertical-align: top;\n",
       "    }\n",
       "\n",
       "    .dataframe thead th {\n",
       "        text-align: right;\n",
       "    }\n",
       "</style>\n",
       "<table border=\"1\" class=\"dataframe\">\n",
       "  <thead>\n",
       "    <tr style=\"text-align: right;\">\n",
       "      <th></th>\n",
       "      <th>text</th>\n",
       "      <th>ctext</th>\n",
       "    </tr>\n",
       "  </thead>\n",
       "  <tbody>\n",
       "    <tr>\n",
       "      <th>count</th>\n",
       "      <td>4396</td>\n",
       "      <td>4396</td>\n",
       "    </tr>\n",
       "    <tr>\n",
       "      <th>unique</th>\n",
       "      <td>4396</td>\n",
       "      <td>4341</td>\n",
       "    </tr>\n",
       "    <tr>\n",
       "      <th>top</th>\n",
       "      <td>The Administration of Union Territory Daman an...</td>\n",
       "      <td>AAJ TAK LIVE TV WITH LIVE ELECTION RESULTS I c...</td>\n",
       "    </tr>\n",
       "    <tr>\n",
       "      <th>freq</th>\n",
       "      <td>1</td>\n",
       "      <td>13</td>\n",
       "    </tr>\n",
       "  </tbody>\n",
       "</table>\n",
       "</div>"
      ],
      "text/plain": [
       "                                                     text  \\\n",
       "count                                                4396   \n",
       "unique                                               4396   \n",
       "top     The Administration of Union Territory Daman an...   \n",
       "freq                                                    1   \n",
       "\n",
       "                                                    ctext  \n",
       "count                                                4396  \n",
       "unique                                               4341  \n",
       "top     AAJ TAK LIVE TV WITH LIVE ELECTION RESULTS I c...  \n",
       "freq                                                   13  "
      ]
     },
     "execution_count": 185,
     "metadata": {},
     "output_type": "execute_result"
    }
   ],
   "source": [
    "df1.describe()"
   ]
  },
  {
   "cell_type": "code",
   "execution_count": 204,
   "metadata": {},
   "outputs": [
    {
     "data": {
      "text/plain": [
       "text       0\n",
       "ctext    118\n",
       "dtype: int64"
      ]
     },
     "execution_count": 204,
     "metadata": {},
     "output_type": "execute_result"
    }
   ],
   "source": [
    "df1.isna().sum()"
   ]
  },
  {
   "cell_type": "code",
   "execution_count": 187,
   "metadata": {},
   "outputs": [
    {
     "data": {
      "text/html": [
       "<div>\n",
       "<style scoped>\n",
       "    .dataframe tbody tr th:only-of-type {\n",
       "        vertical-align: middle;\n",
       "    }\n",
       "\n",
       "    .dataframe tbody tr th {\n",
       "        vertical-align: top;\n",
       "    }\n",
       "\n",
       "    .dataframe thead th {\n",
       "        text-align: right;\n",
       "    }\n",
       "</style>\n",
       "<table border=\"1\" class=\"dataframe\">\n",
       "  <thead>\n",
       "    <tr style=\"text-align: right;\">\n",
       "      <th></th>\n",
       "      <th>text</th>\n",
       "      <th>ctext</th>\n",
       "    </tr>\n",
       "  </thead>\n",
       "  <tbody>\n",
       "    <tr>\n",
       "      <th>0</th>\n",
       "      <td>The Administration of Union Territory Daman an...</td>\n",
       "      <td>The Daman and Diu administration on Wednesday ...</td>\n",
       "    </tr>\n",
       "    <tr>\n",
       "      <th>1</th>\n",
       "      <td>Malaika Arora slammed an Instagram user who tr...</td>\n",
       "      <td>From her special numbers to TV?appearances, Bo...</td>\n",
       "    </tr>\n",
       "    <tr>\n",
       "      <th>2</th>\n",
       "      <td>The Indira Gandhi Institute of Medical Science...</td>\n",
       "      <td>The Indira Gandhi Institute of Medical Science...</td>\n",
       "    </tr>\n",
       "    <tr>\n",
       "      <th>3</th>\n",
       "      <td>Lashkar-e-Taiba's Kashmir commander Abu Dujana...</td>\n",
       "      <td>Lashkar-e-Taiba's Kashmir commander Abu Dujana...</td>\n",
       "    </tr>\n",
       "    <tr>\n",
       "      <th>4</th>\n",
       "      <td>Hotels in Maharashtra will train their staff t...</td>\n",
       "      <td>Hotels in Mumbai and other Indian cities are t...</td>\n",
       "    </tr>\n",
       "    <tr>\n",
       "      <th>...</th>\n",
       "      <td>...</td>\n",
       "      <td>...</td>\n",
       "    </tr>\n",
       "    <tr>\n",
       "      <th>4509</th>\n",
       "      <td>Fruit juice concentrate maker Rasna is eyeing ...</td>\n",
       "      <td>Mumbai, Feb 23 (PTI) Fruit juice concentrate m...</td>\n",
       "    </tr>\n",
       "    <tr>\n",
       "      <th>4510</th>\n",
       "      <td>Former Indian cricketer Sachin Tendulkar atten...</td>\n",
       "      <td>Former cricketer Sachin Tendulkar was spotted ...</td>\n",
       "    </tr>\n",
       "    <tr>\n",
       "      <th>4511</th>\n",
       "      <td>Aamir Khan, while talking about reality shows ...</td>\n",
       "      <td>Aamir Khan, whose last film Dangal told the st...</td>\n",
       "    </tr>\n",
       "    <tr>\n",
       "      <th>4512</th>\n",
       "      <td>The Maharashtra government has initiated an in...</td>\n",
       "      <td>Maharahstra Power Minister Chandrashekhar Bawa...</td>\n",
       "    </tr>\n",
       "    <tr>\n",
       "      <th>4513</th>\n",
       "      <td>At least 400 languages or more than half langu...</td>\n",
       "      <td>More than half of the languages spoken by Indi...</td>\n",
       "    </tr>\n",
       "  </tbody>\n",
       "</table>\n",
       "<p>4396 rows × 2 columns</p>\n",
       "</div>"
      ],
      "text/plain": [
       "                                                   text  \\\n",
       "0     The Administration of Union Territory Daman an...   \n",
       "1     Malaika Arora slammed an Instagram user who tr...   \n",
       "2     The Indira Gandhi Institute of Medical Science...   \n",
       "3     Lashkar-e-Taiba's Kashmir commander Abu Dujana...   \n",
       "4     Hotels in Maharashtra will train their staff t...   \n",
       "...                                                 ...   \n",
       "4509  Fruit juice concentrate maker Rasna is eyeing ...   \n",
       "4510  Former Indian cricketer Sachin Tendulkar atten...   \n",
       "4511  Aamir Khan, while talking about reality shows ...   \n",
       "4512  The Maharashtra government has initiated an in...   \n",
       "4513  At least 400 languages or more than half langu...   \n",
       "\n",
       "                                                  ctext  \n",
       "0     The Daman and Diu administration on Wednesday ...  \n",
       "1     From her special numbers to TV?appearances, Bo...  \n",
       "2     The Indira Gandhi Institute of Medical Science...  \n",
       "3     Lashkar-e-Taiba's Kashmir commander Abu Dujana...  \n",
       "4     Hotels in Mumbai and other Indian cities are t...  \n",
       "...                                                 ...  \n",
       "4509  Mumbai, Feb 23 (PTI) Fruit juice concentrate m...  \n",
       "4510  Former cricketer Sachin Tendulkar was spotted ...  \n",
       "4511  Aamir Khan, whose last film Dangal told the st...  \n",
       "4512  Maharahstra Power Minister Chandrashekhar Bawa...  \n",
       "4513  More than half of the languages spoken by Indi...  \n",
       "\n",
       "[4396 rows x 2 columns]"
      ]
     },
     "execution_count": 187,
     "metadata": {},
     "output_type": "execute_result"
    }
   ],
   "source": [
    "df1 = df1.dropna()\n",
    "df1"
   ]
  },
  {
   "cell_type": "code",
   "execution_count": 239,
   "metadata": {},
   "outputs": [
    {
     "data": {
      "text/plain": [
       "0       The Daman and Diu administration on Wednesday ...\n",
       "1       From her special numbers to TV?appearances, Bo...\n",
       "2       The Indira Gandhi Institute of Medical Science...\n",
       "3       Lashkar-e-Taiba's Kashmir commander Abu Dujana...\n",
       "4       Hotels in Mumbai and other Indian cities are t...\n",
       "                              ...                        \n",
       "4509    Mumbai, Feb 23 (PTI) Fruit juice concentrate m...\n",
       "4510    Former cricketer Sachin Tendulkar was spotted ...\n",
       "4511    Aamir Khan, whose last film Dangal told the st...\n",
       "4512    Maharahstra Power Minister Chandrashekhar Bawa...\n",
       "4513    More than half of the languages spoken by Indi...\n",
       "Name: ctext, Length: 4514, dtype: object"
      ]
     },
     "execution_count": 239,
     "metadata": {},
     "output_type": "execute_result"
    }
   ],
   "source": [
    "df2 = df1['ctext']\n",
    "df2"
   ]
  },
  {
   "cell_type": "code",
   "execution_count": 241,
   "metadata": {},
   "outputs": [
    {
     "name": "stdout",
     "output_type": "stream",
     "text": [
      "From her special numbers to TV?appearances, Bollywood actor Malaika Arora Khan has managed to carve her own identity. The actor, who made her debut in the Hindi film industry with the blockbuster debut opposite Shah Rukh Khan in Chaiyya Chaiyya from Dil Se (1998), is still remembered for the song. However, for trolls, she is a woman first and what matters right now is that she divorced a ?rich man?.  On Wednesday, Malaika Arora shared a gorgeous picture of herself on Instagram and a follower decided to troll her for using her ?alumni? (read alimony) money to wear ?short clothes and going to gym or salon?. Little did he/she know that the Munni Badnam star would reply with the perfect comeback. Take a look at the interaction:     Super excited to be affiliated with Khanna Jewellers @khannajewellerskj as their brand ambassador. Crafted to perfection, their stunning statement jewellery is a must have for every jewellery lover. #khannajewellers...#maksquad?? #hair @hairbypriyanka #stylist @manekaharisinghani #manager @ektakauroberoi #mua? @subbu28 #photographer @prasdnaik A post shared by Malaika Arora Khan (@malaikaarorakhanofficial) on Aug 2, 2017 at 6:20am PDT Then, Malaika decided to reply: The entire conversation only proves that no matter if a woman is successful, she will be attacked the moment she decides to step out of bounds the society decided for her. Apart from being a successful woman who lives life on her own terms, Malaika has literally played all the roles traditionally prescribed for a woman - she married quite early, had a son and raised him and was always around with the ?khandan?. But then, she got divorced and alimony is the taunt being thrown at her. The details of the alimony are only known to Malaika, her husband Arbaaz Khan and perhaps the family. The couple has handled the divorce with the utmost dignity. But we can vouch for the fact that she did not  need an alimony to buy clothes (short or not, her choice), go on vacations and enjoy her life. If anything, she is as successful, if not more, than her ex-husband.What happened between Arbaaz and Malaika is their personal concern. But to claim that Malaika married and then divorced Arbaaz for money doesn?t hold water. For those who do not agree, please get a course in feminism and for others, here?s a playlist of some of her most popular songs. Follow @htshowbiz for more\n"
     ]
    }
   ],
   "source": [
    "sent1 = df2[1]\n",
    "print(sent1)"
   ]
  },
  {
   "cell_type": "code",
   "execution_count": 242,
   "metadata": {},
   "outputs": [
    {
     "data": {
      "text/plain": [
       "477"
      ]
     },
     "execution_count": 242,
     "metadata": {},
     "output_type": "execute_result"
    }
   ],
   "source": [
    "wt = word_tokenize(sent1)\n",
    "len(wt)"
   ]
  },
  {
   "cell_type": "code",
   "execution_count": 243,
   "metadata": {},
   "outputs": [],
   "source": [
    "def summarize(text,num_sent):\n",
    "\n",
    "    sentences = sent_tokenize(text)\n",
    "    print(len(sentences))\n",
    "    \n",
    "    vectorizer = TfidfVectorizer()\n",
    "    tfidf_matrix = vectorizer.fit_transform(sentences)\n",
    "    \n",
    "    sentence_scores = tfidf_matrix.sum(axis=1).flatten()\n",
    "    sentence_scores = np.array(sentence_scores).flatten()\n",
    "    \n",
    "    ranked_sentence_indices = np.argsort(sentence_scores)[::-1]\n",
    "    selected_sentences = [sentences[i] for i in ranked_sentence_indices[:min(num_sent, len(sentences))]]\n",
    "    \n",
    "    summary = ' '.join(selected_sentences)\n",
    "    return summary"
   ]
  },
  {
   "cell_type": "code",
   "execution_count": 244,
   "metadata": {},
   "outputs": [
    {
     "name": "stdout",
     "output_type": "stream",
     "text": [
      "20\n",
      "@subbu28 #photographer @prasdnaik A post shared by Malaika Arora Khan (@malaikaarorakhanofficial) on Aug 2, 2017 at 6:20am PDT Then, Malaika decided to reply: The entire conversation only proves that no matter if a woman is successful, she will be attacked the moment she decides to step out of bounds the society decided for her.\n"
     ]
    }
   ],
   "source": [
    "t_w = summarize(sent1,1)\n",
    "print(t_w)"
   ]
  },
  {
   "cell_type": "code",
   "execution_count": 245,
   "metadata": {},
   "outputs": [],
   "source": [
    "def summarize_w(text,num_sent):\n",
    "\n",
    "    word = word_tokenize(text)\n",
    "    print(\"Total Tokens\",len(word))\n",
    "    print(word)\n",
    "    print('\\n')   \n",
    "    \n",
    "    after_stop_word = [item for item in word if item not in english]\n",
    "    print('Total tokens after  stop words removal',len(after_stop_word))\n",
    "    print(after_stop_word)\n",
    "    print('\\n')\n",
    "    \n",
    "    vectorizer = TfidfVectorizer()\n",
    "    tfidf_matrix = vectorizer.fit_transform(after_stop_word)\n",
    "    \n",
    "    sentence_scores = tfidf_matrix.sum(axis=1).flatten()\n",
    "    sentence_scores = np.array(sentence_scores).flatten()\n",
    "    \n",
    "    ranked_sentence_indices = np.argsort(sentence_scores)[::-1]\n",
    "    selected_sentences = [after_stop_word[i] for i in ranked_sentence_indices[:min(num_sent, len(after_stop_word))]]\n",
    "    \n",
    "    summary = ' '.join(selected_sentences)\n",
    "    return summary"
   ]
  },
  {
   "cell_type": "code",
   "execution_count": 246,
   "metadata": {},
   "outputs": [
    {
     "name": "stdout",
     "output_type": "stream",
     "text": [
      "Total Tokens 477\n",
      "['From', 'her', 'special', 'numbers', 'to', 'TV', '?', 'appearances', ',', 'Bollywood', 'actor', 'Malaika', 'Arora', 'Khan', 'has', 'managed', 'to', 'carve', 'her', 'own', 'identity', '.', 'The', 'actor', ',', 'who', 'made', 'her', 'debut', 'in', 'the', 'Hindi', 'film', 'industry', 'with', 'the', 'blockbuster', 'debut', 'opposite', 'Shah', 'Rukh', 'Khan', 'in', 'Chaiyya', 'Chaiyya', 'from', 'Dil', 'Se', '(', '1998', ')', ',', 'is', 'still', 'remembered', 'for', 'the', 'song', '.', 'However', ',', 'for', 'trolls', ',', 'she', 'is', 'a', 'woman', 'first', 'and', 'what', 'matters', 'right', 'now', 'is', 'that', 'she', 'divorced', 'a', '?', 'rich', 'man', '?', '.', 'On', 'Wednesday', ',', 'Malaika', 'Arora', 'shared', 'a', 'gorgeous', 'picture', 'of', 'herself', 'on', 'Instagram', 'and', 'a', 'follower', 'decided', 'to', 'troll', 'her', 'for', 'using', 'her', '?', 'alumni', '?', '(', 'read', 'alimony', ')', 'money', 'to', 'wear', '?', 'short', 'clothes', 'and', 'going', 'to', 'gym', 'or', 'salon', '?', '.', 'Little', 'did', 'he/she', 'know', 'that', 'the', 'Munni', 'Badnam', 'star', 'would', 'reply', 'with', 'the', 'perfect', 'comeback', '.', 'Take', 'a', 'look', 'at', 'the', 'interaction', ':', 'Super', 'excited', 'to', 'be', 'affiliated', 'with', 'Khanna', 'Jewellers', '@', 'khannajewellerskj', 'as', 'their', 'brand', 'ambassador', '.', 'Crafted', 'to', 'perfection', ',', 'their', 'stunning', 'statement', 'jewellery', 'is', 'a', 'must', 'have', 'for', 'every', 'jewellery', 'lover', '.', '#', 'khannajewellers', '...', '#', 'maksquad', '?', '?', '#', 'hair', '@', 'hairbypriyanka', '#', 'stylist', '@', 'manekaharisinghani', '#', 'manager', '@', 'ektakauroberoi', '#', 'mua', '?', '@', 'subbu28', '#', 'photographer', '@', 'prasdnaik', 'A', 'post', 'shared', 'by', 'Malaika', 'Arora', 'Khan', '(', '@', 'malaikaarorakhanofficial', ')', 'on', 'Aug', '2', ',', '2017', 'at', '6:20am', 'PDT', 'Then', ',', 'Malaika', 'decided', 'to', 'reply', ':', 'The', 'entire', 'conversation', 'only', 'proves', 'that', 'no', 'matter', 'if', 'a', 'woman', 'is', 'successful', ',', 'she', 'will', 'be', 'attacked', 'the', 'moment', 'she', 'decides', 'to', 'step', 'out', 'of', 'bounds', 'the', 'society', 'decided', 'for', 'her', '.', 'Apart', 'from', 'being', 'a', 'successful', 'woman', 'who', 'lives', 'life', 'on', 'her', 'own', 'terms', ',', 'Malaika', 'has', 'literally', 'played', 'all', 'the', 'roles', 'traditionally', 'prescribed', 'for', 'a', 'woman', '-', 'she', 'married', 'quite', 'early', ',', 'had', 'a', 'son', 'and', 'raised', 'him', 'and', 'was', 'always', 'around', 'with', 'the', '?', 'khandan', '?', '.', 'But', 'then', ',', 'she', 'got', 'divorced', 'and', 'alimony', 'is', 'the', 'taunt', 'being', 'thrown', 'at', 'her', '.', 'The', 'details', 'of', 'the', 'alimony', 'are', 'only', 'known', 'to', 'Malaika', ',', 'her', 'husband', 'Arbaaz', 'Khan', 'and', 'perhaps', 'the', 'family', '.', 'The', 'couple', 'has', 'handled', 'the', 'divorce', 'with', 'the', 'utmost', 'dignity', '.', 'But', 'we', 'can', 'vouch', 'for', 'the', 'fact', 'that', 'she', 'did', 'not', 'need', 'an', 'alimony', 'to', 'buy', 'clothes', '(', 'short', 'or', 'not', ',', 'her', 'choice', ')', ',', 'go', 'on', 'vacations', 'and', 'enjoy', 'her', 'life', '.', 'If', 'anything', ',', 'she', 'is', 'as', 'successful', ',', 'if', 'not', 'more', ',', 'than', 'her', 'ex-husband.What', 'happened', 'between', 'Arbaaz', 'and', 'Malaika', 'is', 'their', 'personal', 'concern', '.', 'But', 'to', 'claim', 'that', 'Malaika', 'married', 'and', 'then', 'divorced', 'Arbaaz', 'for', 'money', 'doesn', '?', 't', 'hold', 'water', '.', 'For', 'those', 'who', 'do', 'not', 'agree', ',', 'please', 'get', 'a', 'course', 'in', 'feminism', 'and', 'for', 'others', ',', 'here', '?', 's', 'a', 'playlist', 'of', 'some', 'of', 'her', 'most', 'popular', 'songs', '.', 'Follow', '@', 'htshowbiz', 'for', 'more']\n",
      "\n",
      "\n",
      "Total tokens after  stop words removal 301\n",
      "['From', 'special', 'numbers', 'TV', '?', 'appearances', ',', 'Bollywood', 'actor', 'Malaika', 'Arora', 'Khan', 'managed', 'carve', 'identity', '.', 'The', 'actor', ',', 'made', 'debut', 'Hindi', 'film', 'industry', 'blockbuster', 'debut', 'opposite', 'Shah', 'Rukh', 'Khan', 'Chaiyya', 'Chaiyya', 'Dil', 'Se', '(', '1998', ')', ',', 'still', 'remembered', 'song', '.', 'However', ',', 'trolls', ',', 'woman', 'first', 'matters', 'right', 'divorced', '?', 'rich', 'man', '?', '.', 'On', 'Wednesday', ',', 'Malaika', 'Arora', 'shared', 'gorgeous', 'picture', 'Instagram', 'follower', 'decided', 'troll', 'using', '?', 'alumni', '?', '(', 'read', 'alimony', ')', 'money', 'wear', '?', 'short', 'clothes', 'going', 'gym', 'salon', '?', '.', 'Little', 'he/she', 'know', 'Munni', 'Badnam', 'star', 'would', 'reply', 'perfect', 'comeback', '.', 'Take', 'look', 'interaction', ':', 'Super', 'excited', 'affiliated', 'Khanna', 'Jewellers', '@', 'khannajewellerskj', 'brand', 'ambassador', '.', 'Crafted', 'perfection', ',', 'stunning', 'statement', 'jewellery', 'must', 'every', 'jewellery', 'lover', '.', '#', 'khannajewellers', '...', '#', 'maksquad', '?', '?', '#', 'hair', '@', 'hairbypriyanka', '#', 'stylist', '@', 'manekaharisinghani', '#', 'manager', '@', 'ektakauroberoi', '#', 'mua', '?', '@', 'subbu28', '#', 'photographer', '@', 'prasdnaik', 'A', 'post', 'shared', 'Malaika', 'Arora', 'Khan', '(', '@', 'malaikaarorakhanofficial', ')', 'Aug', '2', ',', '2017', '6:20am', 'PDT', 'Then', ',', 'Malaika', 'decided', 'reply', ':', 'The', 'entire', 'conversation', 'proves', 'matter', 'woman', 'successful', ',', 'attacked', 'moment', 'decides', 'step', 'bounds', 'society', 'decided', '.', 'Apart', 'successful', 'woman', 'lives', 'life', 'terms', ',', 'Malaika', 'literally', 'played', 'roles', 'traditionally', 'prescribed', 'woman', '-', 'married', 'quite', 'early', ',', 'son', 'raised', 'always', 'around', '?', 'khandan', '?', '.', 'But', ',', 'got', 'divorced', 'alimony', 'taunt', 'thrown', '.', 'The', 'details', 'alimony', 'known', 'Malaika', ',', 'husband', 'Arbaaz', 'Khan', 'perhaps', 'family', '.', 'The', 'couple', 'handled', 'divorce', 'utmost', 'dignity', '.', 'But', 'vouch', 'fact', 'need', 'alimony', 'buy', 'clothes', '(', 'short', ',', 'choice', ')', ',', 'go', 'vacations', 'enjoy', 'life', '.', 'If', 'anything', ',', 'successful', ',', ',', 'ex-husband.What', 'happened', 'Arbaaz', 'Malaika', 'personal', 'concern', '.', 'But', 'claim', 'Malaika', 'married', 'divorced', 'Arbaaz', 'money', '?', 'hold', 'water', '.', 'For', 'agree', ',', 'please', 'get', 'course', 'feminism', 'others', ',', '?', 'playlist', 'popular', 'songs', '.', 'Follow', '@', 'htshowbiz']\n",
      "\n",
      "\n",
      "ex-husband.What he/she htshowbiz interaction statement stunning perfection Crafted ambassador brand khannajewellerskj Jewellers Khanna affiliated excited Super look must Take comeback perfect reply would star Badnam Munni know Little salon gym jewellery every clothes shared The reply decided Malaika Then PDT 6:20am 2017 Aug malaikaarorakhanofficial Khan Arora Malaika post jewellery prasdnaik photographer subbu28 mua ektakauroberoi manager manekaharisinghani stylist hairbypriyanka hair maksquad khannajewellers lover going short conversation Se Chaiyya Chaiyya Khan Rukh Shah opposite debut blockbuster industry film Hindi debut made actor The identity carve managed Khan Arora Malaika actor Bollywood appearances TV numbers special Dil 1998 wear still money alimony read alumni using troll decided follower Instagram picture gorgeous shared Arora\n"
     ]
    }
   ],
   "source": [
    "t_s = summarize_w(sent1,110)\n",
    "print(t_s)"
   ]
  },
  {
   "cell_type": "code",
   "execution_count": null,
   "metadata": {},
   "outputs": [],
   "source": [
    "def summarize_hybrid(text, num_sent):\n",
    "    print(text,'\\n')\n",
    "    \n",
    "    word = word_tokenize(text)\n",
    "    print(\"Total Tokens\", len(word))\n",
    "    print(word)\n",
    "    print('\\n')\n",
    "    \n",
    "    punct = set(string.punctuation) - {'.'}\n",
    "    without_punct = [w for w in word if w not in punct]\n",
    "    print('\\nWithout puncre', without_punct,'\\n')\n",
    "    \n",
    "    after_stop_word = [item for item in without_punct if item.lower() not in english]\n",
    "    print('Total tokens after stop words removal', len(after_stop_word))\n",
    "    print(after_stop_word)\n",
    "    print('\\n')\n",
    "    \n",
    "    join_sent = ' '.join(after_stop_word)\n",
    "    \n",
    "    sentences = sent_tokenize(join_sent)\n",
    "    print(\"Tokenized Sentences after stop words removal:\")\n",
    "    print(sentences)\n",
    "    print('\\n')\n",
    "    \n",
    "    vectorizer = TfidfVectorizer()\n",
    "    tfidf_matrix = vectorizer.fit_transform(sentences)\n",
    "    \n",
    "    sentence_scores = tfidf_matrix.sum(axis=1).flatten()\n",
    "    sentence_scores = np.array(sentence_scores).flatten()\n",
    "    \n",
    "    ranked_sentence_indices = np.argsort(sentence_scores)[::-1]\n",
    "    selected_sentences = [sentences[i] for i in ranked_sentence_indices[:min(num_sent, len(sentences))]]\n",
    "\n",
    "    summary = ' '.join(selected_sentences)\n",
    "    return summary\n"
   ]
  },
  {
   "cell_type": "code",
   "execution_count": 248,
   "metadata": {},
   "outputs": [
    {
     "name": "stdout",
     "output_type": "stream",
     "text": [
      "From her special numbers to TV?appearances, Bollywood actor Malaika Arora Khan has managed to carve her own identity. The actor, who made her debut in the Hindi film industry with the blockbuster debut opposite Shah Rukh Khan in Chaiyya Chaiyya from Dil Se (1998), is still remembered for the song. However, for trolls, she is a woman first and what matters right now is that she divorced a ?rich man?.  On Wednesday, Malaika Arora shared a gorgeous picture of herself on Instagram and a follower decided to troll her for using her ?alumni? (read alimony) money to wear ?short clothes and going to gym or salon?. Little did he/she know that the Munni Badnam star would reply with the perfect comeback. Take a look at the interaction:     Super excited to be affiliated with Khanna Jewellers @khannajewellerskj as their brand ambassador. Crafted to perfection, their stunning statement jewellery is a must have for every jewellery lover. #khannajewellers...#maksquad?? #hair @hairbypriyanka #stylist @manekaharisinghani #manager @ektakauroberoi #mua? @subbu28 #photographer @prasdnaik A post shared by Malaika Arora Khan (@malaikaarorakhanofficial) on Aug 2, 2017 at 6:20am PDT Then, Malaika decided to reply: The entire conversation only proves that no matter if a woman is successful, she will be attacked the moment she decides to step out of bounds the society decided for her. Apart from being a successful woman who lives life on her own terms, Malaika has literally played all the roles traditionally prescribed for a woman - she married quite early, had a son and raised him and was always around with the ?khandan?. But then, she got divorced and alimony is the taunt being thrown at her. The details of the alimony are only known to Malaika, her husband Arbaaz Khan and perhaps the family. The couple has handled the divorce with the utmost dignity. But we can vouch for the fact that she did not  need an alimony to buy clothes (short or not, her choice), go on vacations and enjoy her life. If anything, she is as successful, if not more, than her ex-husband.What happened between Arbaaz and Malaika is their personal concern. But to claim that Malaika married and then divorced Arbaaz for money doesn?t hold water. For those who do not agree, please get a course in feminism and for others, here?s a playlist of some of her most popular songs. Follow @htshowbiz for more \n",
      "\n",
      "Total Tokens 477\n",
      "['From', 'her', 'special', 'numbers', 'to', 'TV', '?', 'appearances', ',', 'Bollywood', 'actor', 'Malaika', 'Arora', 'Khan', 'has', 'managed', 'to', 'carve', 'her', 'own', 'identity', '.', 'The', 'actor', ',', 'who', 'made', 'her', 'debut', 'in', 'the', 'Hindi', 'film', 'industry', 'with', 'the', 'blockbuster', 'debut', 'opposite', 'Shah', 'Rukh', 'Khan', 'in', 'Chaiyya', 'Chaiyya', 'from', 'Dil', 'Se', '(', '1998', ')', ',', 'is', 'still', 'remembered', 'for', 'the', 'song', '.', 'However', ',', 'for', 'trolls', ',', 'she', 'is', 'a', 'woman', 'first', 'and', 'what', 'matters', 'right', 'now', 'is', 'that', 'she', 'divorced', 'a', '?', 'rich', 'man', '?', '.', 'On', 'Wednesday', ',', 'Malaika', 'Arora', 'shared', 'a', 'gorgeous', 'picture', 'of', 'herself', 'on', 'Instagram', 'and', 'a', 'follower', 'decided', 'to', 'troll', 'her', 'for', 'using', 'her', '?', 'alumni', '?', '(', 'read', 'alimony', ')', 'money', 'to', 'wear', '?', 'short', 'clothes', 'and', 'going', 'to', 'gym', 'or', 'salon', '?', '.', 'Little', 'did', 'he/she', 'know', 'that', 'the', 'Munni', 'Badnam', 'star', 'would', 'reply', 'with', 'the', 'perfect', 'comeback', '.', 'Take', 'a', 'look', 'at', 'the', 'interaction', ':', 'Super', 'excited', 'to', 'be', 'affiliated', 'with', 'Khanna', 'Jewellers', '@', 'khannajewellerskj', 'as', 'their', 'brand', 'ambassador', '.', 'Crafted', 'to', 'perfection', ',', 'their', 'stunning', 'statement', 'jewellery', 'is', 'a', 'must', 'have', 'for', 'every', 'jewellery', 'lover', '.', '#', 'khannajewellers', '...', '#', 'maksquad', '?', '?', '#', 'hair', '@', 'hairbypriyanka', '#', 'stylist', '@', 'manekaharisinghani', '#', 'manager', '@', 'ektakauroberoi', '#', 'mua', '?', '@', 'subbu28', '#', 'photographer', '@', 'prasdnaik', 'A', 'post', 'shared', 'by', 'Malaika', 'Arora', 'Khan', '(', '@', 'malaikaarorakhanofficial', ')', 'on', 'Aug', '2', ',', '2017', 'at', '6:20am', 'PDT', 'Then', ',', 'Malaika', 'decided', 'to', 'reply', ':', 'The', 'entire', 'conversation', 'only', 'proves', 'that', 'no', 'matter', 'if', 'a', 'woman', 'is', 'successful', ',', 'she', 'will', 'be', 'attacked', 'the', 'moment', 'she', 'decides', 'to', 'step', 'out', 'of', 'bounds', 'the', 'society', 'decided', 'for', 'her', '.', 'Apart', 'from', 'being', 'a', 'successful', 'woman', 'who', 'lives', 'life', 'on', 'her', 'own', 'terms', ',', 'Malaika', 'has', 'literally', 'played', 'all', 'the', 'roles', 'traditionally', 'prescribed', 'for', 'a', 'woman', '-', 'she', 'married', 'quite', 'early', ',', 'had', 'a', 'son', 'and', 'raised', 'him', 'and', 'was', 'always', 'around', 'with', 'the', '?', 'khandan', '?', '.', 'But', 'then', ',', 'she', 'got', 'divorced', 'and', 'alimony', 'is', 'the', 'taunt', 'being', 'thrown', 'at', 'her', '.', 'The', 'details', 'of', 'the', 'alimony', 'are', 'only', 'known', 'to', 'Malaika', ',', 'her', 'husband', 'Arbaaz', 'Khan', 'and', 'perhaps', 'the', 'family', '.', 'The', 'couple', 'has', 'handled', 'the', 'divorce', 'with', 'the', 'utmost', 'dignity', '.', 'But', 'we', 'can', 'vouch', 'for', 'the', 'fact', 'that', 'she', 'did', 'not', 'need', 'an', 'alimony', 'to', 'buy', 'clothes', '(', 'short', 'or', 'not', ',', 'her', 'choice', ')', ',', 'go', 'on', 'vacations', 'and', 'enjoy', 'her', 'life', '.', 'If', 'anything', ',', 'she', 'is', 'as', 'successful', ',', 'if', 'not', 'more', ',', 'than', 'her', 'ex-husband.What', 'happened', 'between', 'Arbaaz', 'and', 'Malaika', 'is', 'their', 'personal', 'concern', '.', 'But', 'to', 'claim', 'that', 'Malaika', 'married', 'and', 'then', 'divorced', 'Arbaaz', 'for', 'money', 'doesn', '?', 't', 'hold', 'water', '.', 'For', 'those', 'who', 'do', 'not', 'agree', ',', 'please', 'get', 'a', 'course', 'in', 'feminism', 'and', 'for', 'others', ',', 'here', '?', 's', 'a', 'playlist', 'of', 'some', 'of', 'her', 'most', 'popular', 'songs', '.', 'Follow', '@', 'htshowbiz', 'for', 'more']\n",
      "\n",
      "\n",
      "\n",
      "Without puncre ['From', 'her', 'special', 'numbers', 'to', 'TV', 'appearances', 'Bollywood', 'actor', 'Malaika', 'Arora', 'Khan', 'has', 'managed', 'to', 'carve', 'her', 'own', 'identity', '.', 'The', 'actor', 'who', 'made', 'her', 'debut', 'in', 'the', 'Hindi', 'film', 'industry', 'with', 'the', 'blockbuster', 'debut', 'opposite', 'Shah', 'Rukh', 'Khan', 'in', 'Chaiyya', 'Chaiyya', 'from', 'Dil', 'Se', '1998', 'is', 'still', 'remembered', 'for', 'the', 'song', '.', 'However', 'for', 'trolls', 'she', 'is', 'a', 'woman', 'first', 'and', 'what', 'matters', 'right', 'now', 'is', 'that', 'she', 'divorced', 'a', 'rich', 'man', '.', 'On', 'Wednesday', 'Malaika', 'Arora', 'shared', 'a', 'gorgeous', 'picture', 'of', 'herself', 'on', 'Instagram', 'and', 'a', 'follower', 'decided', 'to', 'troll', 'her', 'for', 'using', 'her', 'alumni', 'read', 'alimony', 'money', 'to', 'wear', 'short', 'clothes', 'and', 'going', 'to', 'gym', 'or', 'salon', '.', 'Little', 'did', 'he/she', 'know', 'that', 'the', 'Munni', 'Badnam', 'star', 'would', 'reply', 'with', 'the', 'perfect', 'comeback', '.', 'Take', 'a', 'look', 'at', 'the', 'interaction', 'Super', 'excited', 'to', 'be', 'affiliated', 'with', 'Khanna', 'Jewellers', 'khannajewellerskj', 'as', 'their', 'brand', 'ambassador', '.', 'Crafted', 'to', 'perfection', 'their', 'stunning', 'statement', 'jewellery', 'is', 'a', 'must', 'have', 'for', 'every', 'jewellery', 'lover', '.', 'khannajewellers', '...', 'maksquad', 'hair', 'hairbypriyanka', 'stylist', 'manekaharisinghani', 'manager', 'ektakauroberoi', 'mua', 'subbu28', 'photographer', 'prasdnaik', 'A', 'post', 'shared', 'by', 'Malaika', 'Arora', 'Khan', 'malaikaarorakhanofficial', 'on', 'Aug', '2', '2017', 'at', '6:20am', 'PDT', 'Then', 'Malaika', 'decided', 'to', 'reply', 'The', 'entire', 'conversation', 'only', 'proves', 'that', 'no', 'matter', 'if', 'a', 'woman', 'is', 'successful', 'she', 'will', 'be', 'attacked', 'the', 'moment', 'she', 'decides', 'to', 'step', 'out', 'of', 'bounds', 'the', 'society', 'decided', 'for', 'her', '.', 'Apart', 'from', 'being', 'a', 'successful', 'woman', 'who', 'lives', 'life', 'on', 'her', 'own', 'terms', 'Malaika', 'has', 'literally', 'played', 'all', 'the', 'roles', 'traditionally', 'prescribed', 'for', 'a', 'woman', 'she', 'married', 'quite', 'early', 'had', 'a', 'son', 'and', 'raised', 'him', 'and', 'was', 'always', 'around', 'with', 'the', 'khandan', '.', 'But', 'then', 'she', 'got', 'divorced', 'and', 'alimony', 'is', 'the', 'taunt', 'being', 'thrown', 'at', 'her', '.', 'The', 'details', 'of', 'the', 'alimony', 'are', 'only', 'known', 'to', 'Malaika', 'her', 'husband', 'Arbaaz', 'Khan', 'and', 'perhaps', 'the', 'family', '.', 'The', 'couple', 'has', 'handled', 'the', 'divorce', 'with', 'the', 'utmost', 'dignity', '.', 'But', 'we', 'can', 'vouch', 'for', 'the', 'fact', 'that', 'she', 'did', 'not', 'need', 'an', 'alimony', 'to', 'buy', 'clothes', 'short', 'or', 'not', 'her', 'choice', 'go', 'on', 'vacations', 'and', 'enjoy', 'her', 'life', '.', 'If', 'anything', 'she', 'is', 'as', 'successful', 'if', 'not', 'more', 'than', 'her', 'ex-husband.What', 'happened', 'between', 'Arbaaz', 'and', 'Malaika', 'is', 'their', 'personal', 'concern', '.', 'But', 'to', 'claim', 'that', 'Malaika', 'married', 'and', 'then', 'divorced', 'Arbaaz', 'for', 'money', 'doesn', 't', 'hold', 'water', '.', 'For', 'those', 'who', 'do', 'not', 'agree', 'please', 'get', 'a', 'course', 'in', 'feminism', 'and', 'for', 'others', 'here', 's', 'a', 'playlist', 'of', 'some', 'of', 'her', 'most', 'popular', 'songs', '.', 'Follow', 'htshowbiz', 'for', 'more'] \n",
      "\n",
      "Total tokens after stop words removal 227\n",
      "['special', 'numbers', 'TV', 'appearances', 'Bollywood', 'actor', 'Malaika', 'Arora', 'Khan', 'managed', 'carve', 'identity', '.', 'actor', 'made', 'debut', 'Hindi', 'film', 'industry', 'blockbuster', 'debut', 'opposite', 'Shah', 'Rukh', 'Khan', 'Chaiyya', 'Chaiyya', 'Dil', 'Se', '1998', 'still', 'remembered', 'song', '.', 'However', 'trolls', 'woman', 'first', 'matters', 'right', 'divorced', 'rich', 'man', '.', 'Wednesday', 'Malaika', 'Arora', 'shared', 'gorgeous', 'picture', 'Instagram', 'follower', 'decided', 'troll', 'using', 'alumni', 'read', 'alimony', 'money', 'wear', 'short', 'clothes', 'going', 'gym', 'salon', '.', 'Little', 'he/she', 'know', 'Munni', 'Badnam', 'star', 'would', 'reply', 'perfect', 'comeback', '.', 'Take', 'look', 'interaction', 'Super', 'excited', 'affiliated', 'Khanna', 'Jewellers', 'khannajewellerskj', 'brand', 'ambassador', '.', 'Crafted', 'perfection', 'stunning', 'statement', 'jewellery', 'must', 'every', 'jewellery', 'lover', '.', 'khannajewellers', '...', 'maksquad', 'hair', 'hairbypriyanka', 'stylist', 'manekaharisinghani', 'manager', 'ektakauroberoi', 'mua', 'subbu28', 'photographer', 'prasdnaik', 'post', 'shared', 'Malaika', 'Arora', 'Khan', 'malaikaarorakhanofficial', 'Aug', '2', '2017', '6:20am', 'PDT', 'Malaika', 'decided', 'reply', 'entire', 'conversation', 'proves', 'matter', 'woman', 'successful', 'attacked', 'moment', 'decides', 'step', 'bounds', 'society', 'decided', '.', 'Apart', 'successful', 'woman', 'lives', 'life', 'terms', 'Malaika', 'literally', 'played', 'roles', 'traditionally', 'prescribed', 'woman', 'married', 'quite', 'early', 'son', 'raised', 'always', 'around', 'khandan', '.', 'got', 'divorced', 'alimony', 'taunt', 'thrown', '.', 'details', 'alimony', 'known', 'Malaika', 'husband', 'Arbaaz', 'Khan', 'perhaps', 'family', '.', 'couple', 'handled', 'divorce', 'utmost', 'dignity', '.', 'vouch', 'fact', 'need', 'alimony', 'buy', 'clothes', 'short', 'choice', 'go', 'vacations', 'enjoy', 'life', '.', 'anything', 'successful', 'ex-husband.What', 'happened', 'Arbaaz', 'Malaika', 'personal', 'concern', '.', 'claim', 'Malaika', 'married', 'divorced', 'Arbaaz', 'money', 'hold', 'water', '.', 'agree', 'please', 'get', 'course', 'feminism', 'others', 'playlist', 'popular', 'songs', '.', 'Follow', 'htshowbiz']\n",
      "\n",
      "\n",
      "Tokenized Sentences after stop words removal:\n",
      "['special numbers TV appearances Bollywood actor Malaika Arora Khan managed carve identity .', 'actor made debut Hindi film industry blockbuster debut opposite Shah Rukh Khan Chaiyya Chaiyya Dil Se 1998 still remembered song .', 'However trolls woman first matters right divorced rich man .', 'Wednesday Malaika Arora shared gorgeous picture Instagram follower decided troll using alumni read alimony money wear short clothes going gym salon .', 'Little he/she know Munni Badnam star would reply perfect comeback .', 'Take look interaction Super excited affiliated Khanna Jewellers khannajewellerskj brand ambassador .', 'Crafted perfection stunning statement jewellery must every jewellery lover .', 'khannajewellers ... maksquad hair hairbypriyanka stylist manekaharisinghani manager ektakauroberoi mua subbu28 photographer prasdnaik post shared Malaika Arora Khan malaikaarorakhanofficial Aug 2 2017 6:20am PDT Malaika decided reply entire conversation proves matter woman successful attacked moment decides step bounds society decided .', 'Apart successful woman lives life terms Malaika literally played roles traditionally prescribed woman married quite early son raised always around khandan .', 'got divorced alimony taunt thrown .', 'details alimony known Malaika husband Arbaaz Khan perhaps family .', 'couple handled divorce utmost dignity .', 'vouch fact need alimony buy clothes short choice go vacations enjoy life .', 'anything successful ex-husband.What happened Arbaaz Malaika personal concern .', 'claim Malaika married divorced Arbaaz money hold water .', 'agree please get course feminism others playlist popular songs .', 'Follow htshowbiz']\n",
      "\n",
      "\n",
      "khannajewellers ... maksquad hair hairbypriyanka stylist manekaharisinghani manager ektakauroberoi mua subbu28 photographer prasdnaik post shared Malaika Arora Khan malaikaarorakhanofficial Aug 2 2017 6:20am PDT Malaika decided reply entire conversation proves matter woman successful attacked moment decides step bounds society decided . Wednesday Malaika Arora shared gorgeous picture Instagram follower decided troll using alumni read alimony money wear short clothes going gym salon . Apart successful woman lives life terms Malaika literally played roles traditionally prescribed woman married quite early son raised always around khandan .\n"
     ]
    }
   ],
   "source": [
    "t_hybrid = summarize_hybrid(sent1,3)\n",
    "print(t_hybrid)"
   ]
  },
  {
   "cell_type": "code",
   "execution_count": 249,
   "metadata": {},
   "outputs": [
    {
     "data": {
      "text/plain": [
       "'Malaika Arora slammed an Instagram user who trolled her for \"divorcing a rich man\" and \"having fun with the alimony\". \"Her life now is all about wearing short clothes, going to gym or salon, enjoying vacation[s],\" the user commented. Malaika responded, \"You certainly got to get your damn facts right before spewing sh*t on me...when you know nothing about me.\"'"
      ]
     },
     "execution_count": 249,
     "metadata": {},
     "output_type": "execute_result"
    }
   ],
   "source": [
    "ref = df1['text'][1]\n",
    "ref"
   ]
  },
  {
   "cell_type": "code",
   "execution_count": 252,
   "metadata": {},
   "outputs": [],
   "source": [
    "from rouge_score import rouge_scorer\n",
    "\n",
    "def evaluate_summary(generated_summary, reference_summary):\n",
    "    print(\"Generated Summary:\\n\", generated_summary)\n",
    "    print(\"\\nReference Summary:\\n\", reference_summary)\n",
    "    \n",
    "    scorer = rouge_scorer.RougeScorer(['rouge2'], use_stemmer=True)\n",
    "    print(scorer)\n",
    "    scores = scorer.score(reference_summary, generated_summary)\n",
    "    \n",
    "    print(\"\\nROUGE Scores:\")\n",
    "    for metric, score in scores.items():\n",
    "        print(f\"{metric}: Precision: {score.precision:.4f}, Recall: {score.recall:.4f}, F1: {score.fmeasure:.4f}\")\n",
    "        \n",
    "    print(\"\\n\\n--------------------------------\")\n",
    "    return scores\n"
   ]
  },
  {
   "cell_type": "code",
   "execution_count": 253,
   "metadata": {},
   "outputs": [
    {
     "name": "stdout",
     "output_type": "stream",
     "text": [
      "Word Summarize\n",
      "Generated Summary:\n",
      " @subbu28 #photographer @prasdnaik A post shared by Malaika Arora Khan (@malaikaarorakhanofficial) on Aug 2, 2017 at 6:20am PDT Then, Malaika decided to reply: The entire conversation only proves that no matter if a woman is successful, she will be attacked the moment she decides to step out of bounds the society decided for her.\n",
      "\n",
      "Reference Summary:\n",
      " Malaika Arora slammed an Instagram user who trolled her for \"divorcing a rich man\" and \"having fun with the alimony\". \"Her life now is all about wearing short clothes, going to gym or salon, enjoying vacation[s],\" the user commented. Malaika responded, \"You certainly got to get your damn facts right before spewing sh*t on me...when you know nothing about me.\"\n",
      "<rouge_score.rouge_scorer.RougeScorer object at 0x310a18830>\n",
      "\n",
      "ROUGE Scores:\n",
      "rouge2: Precision: 0.0185, Recall: 0.0161, F1: 0.0172\n",
      "\n",
      "\n",
      "--------------------------------\n",
      "Word Sentence\n",
      "Generated Summary:\n",
      " ex-husband.What he/she htshowbiz interaction statement stunning perfection Crafted ambassador brand khannajewellerskj Jewellers Khanna affiliated excited Super look must Take comeback perfect reply would star Badnam Munni know Little salon gym jewellery every clothes shared The reply decided Malaika Then PDT 6:20am 2017 Aug malaikaarorakhanofficial Khan Arora Malaika post jewellery prasdnaik photographer subbu28 mua ektakauroberoi manager manekaharisinghani stylist hairbypriyanka hair maksquad khannajewellers lover going short conversation Se Chaiyya Chaiyya Khan Rukh Shah opposite debut blockbuster industry film Hindi debut made actor The identity carve managed Khan Arora Malaika actor Bollywood appearances TV numbers special Dil 1998 wear still money alimony read alumni using troll decided follower Instagram picture gorgeous shared Arora\n",
      "\n",
      "Reference Summary:\n",
      " Malaika Arora slammed an Instagram user who trolled her for \"divorcing a rich man\" and \"having fun with the alimony\". \"Her life now is all about wearing short clothes, going to gym or salon, enjoying vacation[s],\" the user commented. Malaika responded, \"You certainly got to get your damn facts right before spewing sh*t on me...when you know nothing about me.\"\n",
      "<rouge_score.rouge_scorer.RougeScorer object at 0x310a18830>\n",
      "\n",
      "ROUGE Scores:\n",
      "rouge2: Precision: 0.0000, Recall: 0.0000, F1: 0.0000\n",
      "\n",
      "\n",
      "--------------------------------\n",
      "Hybrid Summarize\n",
      "Generated Summary:\n",
      " khannajewellers ... maksquad hair hairbypriyanka stylist manekaharisinghani manager ektakauroberoi mua subbu28 photographer prasdnaik post shared Malaika Arora Khan malaikaarorakhanofficial Aug 2 2017 6:20am PDT Malaika decided reply entire conversation proves matter woman successful attacked moment decides step bounds society decided . Wednesday Malaika Arora shared gorgeous picture Instagram follower decided troll using alumni read alimony money wear short clothes going gym salon . Apart successful woman lives life terms Malaika literally played roles traditionally prescribed woman married quite early son raised always around khandan .\n",
      "\n",
      "Reference Summary:\n",
      " Malaika Arora slammed an Instagram user who trolled her for \"divorcing a rich man\" and \"having fun with the alimony\". \"Her life now is all about wearing short clothes, going to gym or salon, enjoying vacation[s],\" the user commented. Malaika responded, \"You certainly got to get your damn facts right before spewing sh*t on me...when you know nothing about me.\"\n",
      "<rouge_score.rouge_scorer.RougeScorer object at 0x156967290>\n",
      "\n",
      "ROUGE Scores:\n",
      "rouge2: Precision: 0.0494, Recall: 0.0645, F1: 0.0559\n",
      "\n",
      "\n",
      "--------------------------------\n"
     ]
    }
   ],
   "source": [
    "print(\"Word Summarize\")\n",
    "s1 = evaluate_summary(t_w,ref)\n",
    "print(\"Word Sentence\")\n",
    "s1 = evaluate_summary(t_s,ref)\n",
    "print(\"Hybrid Summarize\")\n",
    "s1 = evaluate_summary(t_hybrid,ref)"
   ]
  },
  {
   "cell_type": "code",
   "execution_count": null,
   "metadata": {},
   "outputs": [],
   "source": []
  }
 ],
 "metadata": {
  "kernelspec": {
   "display_name": "base",
   "language": "python",
   "name": "python3"
  },
  "language_info": {
   "codemirror_mode": {
    "name": "ipython",
    "version": 3
   },
   "file_extension": ".py",
   "mimetype": "text/x-python",
   "name": "python",
   "nbconvert_exporter": "python",
   "pygments_lexer": "ipython3",
   "version": "3.12.2"
  }
 },
 "nbformat": 4,
 "nbformat_minor": 2
}
