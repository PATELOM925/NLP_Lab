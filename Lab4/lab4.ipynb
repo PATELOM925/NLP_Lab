{
 "cells": [
  {
   "cell_type": "markdown",
   "metadata": {},
   "source": [
    "## Word Embedding"
   ]
  },
  {
   "cell_type": "code",
   "execution_count": 87,
   "metadata": {},
   "outputs": [],
   "source": [
    "import pandas as pd\n",
    "import numpy as np\n",
    "import matplotlib.pyplot as plt"
   ]
  },
  {
   "cell_type": "code",
   "execution_count": 88,
   "metadata": {},
   "outputs": [
    {
     "data": {
      "text/html": [
       "<div>\n",
       "<style scoped>\n",
       "    .dataframe tbody tr th:only-of-type {\n",
       "        vertical-align: middle;\n",
       "    }\n",
       "\n",
       "    .dataframe tbody tr th {\n",
       "        vertical-align: top;\n",
       "    }\n",
       "\n",
       "    .dataframe thead th {\n",
       "        text-align: right;\n",
       "    }\n",
       "</style>\n",
       "<table border=\"1\" class=\"dataframe\">\n",
       "  <thead>\n",
       "    <tr style=\"text-align: right;\">\n",
       "      <th></th>\n",
       "      <th>text</th>\n",
       "      <th>output</th>\n",
       "    </tr>\n",
       "  </thead>\n",
       "  <tbody>\n",
       "    <tr>\n",
       "      <th>0</th>\n",
       "      <td>People Watch Facebook</td>\n",
       "      <td>1</td>\n",
       "    </tr>\n",
       "    <tr>\n",
       "      <th>1</th>\n",
       "      <td>Facebook watch facebook</td>\n",
       "      <td>1</td>\n",
       "    </tr>\n",
       "    <tr>\n",
       "      <th>2</th>\n",
       "      <td>People write comments</td>\n",
       "      <td>0</td>\n",
       "    </tr>\n",
       "    <tr>\n",
       "      <th>3</th>\n",
       "      <td>Facebook write comments</td>\n",
       "      <td>0</td>\n",
       "    </tr>\n",
       "  </tbody>\n",
       "</table>\n",
       "</div>"
      ],
      "text/plain": [
       "                      text  output\n",
       "0    People Watch Facebook       1\n",
       "1  Facebook watch facebook       1\n",
       "2    People write comments       0\n",
       "3  Facebook write comments       0"
      ]
     },
     "execution_count": 88,
     "metadata": {},
     "output_type": "execute_result"
    }
   ],
   "source": [
    "data = {\n",
    "    'text' : ['People Watch Facebook','Facebook watch facebook','People write comments','Facebook write comments'],\n",
    "    'output': [1,1,0,0,]\n",
    "}\n",
    "df = pd.DataFrame(data)\n",
    "df"
   ]
  },
  {
   "cell_type": "code",
   "execution_count": 89,
   "metadata": {},
   "outputs": [],
   "source": [
    "from sklearn.feature_extraction.text import CountVectorizer\n",
    "cv = CountVectorizer()"
   ]
  },
  {
   "cell_type": "code",
   "execution_count": 90,
   "metadata": {},
   "outputs": [],
   "source": [
    "#Bag of Words (Bow)\n",
    "bow = cv.fit_transform(df['text'])"
   ]
  },
  {
   "cell_type": "code",
   "execution_count": 91,
   "metadata": {},
   "outputs": [
    {
     "name": "stdout",
     "output_type": "stream",
     "text": [
      "['comments' 'facebook' 'people' 'watch' 'write']\n"
     ]
    }
   ],
   "source": [
    "feature_names = cv.get_feature_names_out()\n",
    "print(feature_names)"
   ]
  },
  {
   "cell_type": "code",
   "execution_count": 92,
   "metadata": {},
   "outputs": [
    {
     "name": "stdout",
     "output_type": "stream",
     "text": [
      "{'people': 2, 'watch': 3, 'facebook': 1, 'write': 4, 'comments': 0}\n"
     ]
    }
   ],
   "source": [
    "print(cv.vocabulary_) #Integers after strings  are the index value"
   ]
  },
  {
   "cell_type": "code",
   "execution_count": 93,
   "metadata": {},
   "outputs": [
    {
     "name": "stdout",
     "output_type": "stream",
     "text": [
      "[[0 1 1 1 0]]\n"
     ]
    }
   ],
   "source": [
    "#Checking BoW for sentence 1:\n",
    "print(bow[0].toarray())"
   ]
  },
  {
   "cell_type": "markdown",
   "metadata": {},
   "source": [
    " Output: [[0 1 1 1 0]] : Thus Facebook People Watch"
   ]
  },
  {
   "cell_type": "code",
   "execution_count": 94,
   "metadata": {},
   "outputs": [
    {
     "name": "stdout",
     "output_type": "stream",
     "text": [
      "[[0 1 1 1 0]\n",
      " [0 2 0 1 0]\n",
      " [1 0 1 0 1]\n",
      " [1 1 0 0 1]]\n"
     ]
    }
   ],
   "source": [
    "#  Converting all sentences toaraay\n",
    "X = bow.toarray()\n",
    "print(X)"
   ]
  },
  {
   "cell_type": "code",
   "execution_count": 95,
   "metadata": {},
   "outputs": [
    {
     "name": "stdout",
     "output_type": "stream",
     "text": [
      "{'people': 2, 'watch': 3, 'facebook': 1, 'write': 4, 'comments': 0}\n",
      "[[0 1 1 1 0]\n",
      " [0 1 0 1 0]\n",
      " [1 0 1 0 1]\n",
      " [1 1 0 0 1]]\n"
     ]
    }
   ],
   "source": [
    "#Let's Change Binary parameter of CountVectorizer , To get only True and false value. Else it gives us frequency of a word in that particular sentence in matrix\n",
    "cv2 = CountVectorizer(binary=True,lowercase=True, stop_words=None) #for optimal vocublary we can use these lowercase, stopwords parameters\n",
    "bow2 = cv2.fit_transform(df['text'])\n",
    "print(cv2.vocabulary_)\n",
    "#  Converting all sentences toaraay\n",
    "X2 = bow2.toarray()\n",
    "print(X2)\n"
   ]
  },
  {
   "cell_type": "code",
   "execution_count": 96,
   "metadata": {},
   "outputs": [
    {
     "name": "stdout",
     "output_type": "stream",
     "text": [
      "{'people': 6, 'watch': 11, 'facebook': 1, 'people watch': 7, 'watch facebook': 12, 'people watch facebook': 8, 'facebook watch': 2, 'facebook watch facebook': 3, 'write': 13, 'comments': 0, 'people write': 9, 'write comments': 14, 'people write comments': 10, 'facebook write': 4, 'facebook write comments': 5}\n"
     ]
    }
   ],
   "source": [
    "#using N-gram parameter: (by default is (1,1))\n",
    "cv3 = CountVectorizer(binary=True,lowercase=True, stop_words=None, ngram_range=(1,3)) #(2,2), (1,3), (1,2)\n",
    "bow3 = cv3.fit_transform(df['text'])\n",
    "print(cv3.vocabulary_)\n"
   ]
  },
  {
   "cell_type": "code",
   "execution_count": 97,
   "metadata": {},
   "outputs": [
    {
     "name": "stdout",
     "output_type": "stream",
     "text": [
      "[[0 1 0 0 0 0 1 1 1 0 0 1 1 0 0]\n",
      " [0 1 1 1 0 0 0 0 0 0 0 1 1 0 0]\n",
      " [1 0 0 0 0 0 1 0 0 1 1 0 0 1 1]\n",
      " [1 1 0 0 1 1 0 0 0 0 0 0 0 1 1]]\n"
     ]
    }
   ],
   "source": [
    "#Converting all sentences toaraay\n",
    "X3 = bow3.toarray()\n",
    "print(X3)"
   ]
  },
  {
   "cell_type": "code",
   "execution_count": 98,
   "metadata": {},
   "outputs": [
    {
     "data": {
      "text/plain": [
       "array([[1, 1, 0, 1, 0]])"
      ]
     },
     "execution_count": 98,
     "metadata": {},
     "output_type": "execute_result"
    }
   ],
   "source": [
    "cv.transform(['Facebook watch your comments']).toarray() #here they have ignored \"your\""
   ]
  },
  {
   "cell_type": "markdown",
   "metadata": {},
   "source": [
    "### One Hot enchoder"
   ]
  },
  {
   "cell_type": "code",
   "execution_count": 99,
   "metadata": {},
   "outputs": [],
   "source": [
    "#one hot encoder\n",
    "from sklearn.preprocessing import OneHotEncoder "
   ]
  },
  {
   "cell_type": "code",
   "execution_count": 100,
   "metadata": {},
   "outputs": [],
   "source": [
    "ohe = OneHotEncoder()\n",
    "one_hot_encoded = ohe.fit_transform(df[[\"text\"]]) # By using df[[\"anything\"]] 1D can be converted to 2D"
   ]
  },
  {
   "cell_type": "code",
   "execution_count": 101,
   "metadata": {},
   "outputs": [
    {
     "name": "stdout",
     "output_type": "stream",
     "text": [
      "<Compressed Sparse Row sparse matrix of dtype 'float64'\n",
      "\twith 4 stored elements and shape (4, 4)>\n",
      "  Coords\tValues\n",
      "  (0, 2)\t1.0\n",
      "  (1, 0)\t1.0\n",
      "  (2, 3)\t1.0\n",
      "  (3, 1)\t1.0\n",
      "['text_Facebook watch facebook' 'text_Facebook write comments'\n",
      " 'text_People Watch Facebook' 'text_People write comments']\n",
      "[array(['Facebook watch facebook', 'Facebook write comments',\n",
      "       'People Watch Facebook', 'People write comments'], dtype=object)]\n"
     ]
    }
   ],
   "source": [
    "print(one_hot_encoded)\n",
    "col = ohe.get_feature_names_out(['text'])\n",
    "print(col)\n",
    "cat = ohe.categories_\n",
    "print(cat)\n"
   ]
  },
  {
   "cell_type": "code",
   "execution_count": 102,
   "metadata": {},
   "outputs": [
    {
     "data": {
      "text/html": [
       "<div>\n",
       "<style scoped>\n",
       "    .dataframe tbody tr th:only-of-type {\n",
       "        vertical-align: middle;\n",
       "    }\n",
       "\n",
       "    .dataframe tbody tr th {\n",
       "        vertical-align: top;\n",
       "    }\n",
       "\n",
       "    .dataframe thead th {\n",
       "        text-align: right;\n",
       "    }\n",
       "</style>\n",
       "<table border=\"1\" class=\"dataframe\">\n",
       "  <thead>\n",
       "    <tr style=\"text-align: right;\">\n",
       "      <th></th>\n",
       "      <th>text</th>\n",
       "      <th>output</th>\n",
       "      <th>(Facebook watch facebook,)</th>\n",
       "      <th>(Facebook write comments,)</th>\n",
       "      <th>(People Watch Facebook,)</th>\n",
       "      <th>(People write comments,)</th>\n",
       "    </tr>\n",
       "  </thead>\n",
       "  <tbody>\n",
       "    <tr>\n",
       "      <th>0</th>\n",
       "      <td>People Watch Facebook</td>\n",
       "      <td>1</td>\n",
       "      <td>0.0</td>\n",
       "      <td>0.0</td>\n",
       "      <td>1.0</td>\n",
       "      <td>0.0</td>\n",
       "    </tr>\n",
       "    <tr>\n",
       "      <th>1</th>\n",
       "      <td>Facebook watch facebook</td>\n",
       "      <td>1</td>\n",
       "      <td>1.0</td>\n",
       "      <td>0.0</td>\n",
       "      <td>0.0</td>\n",
       "      <td>0.0</td>\n",
       "    </tr>\n",
       "    <tr>\n",
       "      <th>2</th>\n",
       "      <td>People write comments</td>\n",
       "      <td>0</td>\n",
       "      <td>0.0</td>\n",
       "      <td>0.0</td>\n",
       "      <td>0.0</td>\n",
       "      <td>1.0</td>\n",
       "    </tr>\n",
       "    <tr>\n",
       "      <th>3</th>\n",
       "      <td>Facebook write comments</td>\n",
       "      <td>0</td>\n",
       "      <td>0.0</td>\n",
       "      <td>1.0</td>\n",
       "      <td>0.0</td>\n",
       "      <td>0.0</td>\n",
       "    </tr>\n",
       "  </tbody>\n",
       "</table>\n",
       "</div>"
      ],
      "text/plain": [
       "                      text  output  (Facebook watch facebook,)  \\\n",
       "0    People Watch Facebook       1                         0.0   \n",
       "1  Facebook watch facebook       1                         1.0   \n",
       "2    People write comments       0                         0.0   \n",
       "3  Facebook write comments       0                         0.0   \n",
       "\n",
       "   (Facebook write comments,)  (People Watch Facebook,)  \\\n",
       "0                         0.0                       1.0   \n",
       "1                         0.0                       0.0   \n",
       "2                         0.0                       0.0   \n",
       "3                         1.0                       0.0   \n",
       "\n",
       "   (People write comments,)  \n",
       "0                       0.0  \n",
       "1                       0.0  \n",
       "2                       1.0  \n",
       "3                       0.0  "
      ]
     },
     "execution_count": 102,
     "metadata": {},
     "output_type": "execute_result"
    }
   ],
   "source": [
    "arr = one_hot_encoded.toarray()\n",
    "df1 = pd.DataFrame(arr, columns=cat)\n",
    "df2 = pd.concat([df, df1], axis=1)\n",
    "df2"
   ]
  },
  {
   "cell_type": "code",
   "execution_count": 122,
   "metadata": {},
   "outputs": [
    {
     "name": "stdout",
     "output_type": "stream",
     "text": [
      "Collecting gensim\n",
      "  Using cached gensim-4.3.3-cp312-cp312-macosx_11_0_arm64.whl.metadata (8.1 kB)\n",
      "Requirement already satisfied: numpy<2.0,>=1.18.5 in /Users/om-college/miniconda3/lib/python3.12/site-packages (from gensim) (1.26.4)\n",
      "Collecting scipy<1.14.0,>=1.7.0 (from gensim)\n",
      "  Using cached scipy-1.13.1-cp312-cp312-macosx_12_0_arm64.whl.metadata (60 kB)\n",
      "Requirement already satisfied: smart-open>=1.8.1 in /Users/om-college/miniconda3/lib/python3.12/site-packages (from gensim) (7.0.4)\n",
      "Requirement already satisfied: wrapt in /Users/om-college/miniconda3/lib/python3.12/site-packages (from smart-open>=1.8.1->gensim) (1.16.0)\n",
      "Downloading gensim-4.3.3-cp312-cp312-macosx_11_0_arm64.whl (24.0 MB)\n",
      "\u001b[2K   \u001b[90m━━━━━━━━━━━━━━━━━━━━━━━━━━━━━━━━━━━━━━━━\u001b[0m \u001b[32m24.0/24.0 MB\u001b[0m \u001b[31m11.9 MB/s\u001b[0m eta \u001b[36m0:00:00\u001b[0m00:01\u001b[0m00:01\u001b[0m\n",
      "\u001b[?25hDownloading scipy-1.13.1-cp312-cp312-macosx_12_0_arm64.whl (30.4 MB)\n",
      "\u001b[2K   \u001b[90m━━━━━━━━━━━━━━━━━━━━━━━━━━━━━━━━━━━━━━━━\u001b[0m \u001b[32m30.4/30.4 MB\u001b[0m \u001b[31m15.0 MB/s\u001b[0m eta \u001b[36m0:00:00\u001b[0m00:01\u001b[0m00:01\u001b[0m\n",
      "\u001b[?25hInstalling collected packages: scipy, gensim\n",
      "  Attempting uninstall: scipy\n",
      "    Found existing installation: scipy 1.14.0\n",
      "    Uninstalling scipy-1.14.0:\n",
      "      Successfully uninstalled scipy-1.14.0\n",
      "Successfully installed gensim-4.3.3 scipy-1.13.1\n"
     ]
    }
   ],
   "source": [
    "!pip install gensim"
   ]
  },
  {
   "cell_type": "code",
   "execution_count": 124,
   "metadata": {},
   "outputs": [],
   "source": [
    "import gensim\n",
    "from gensim import models"
   ]
  },
  {
   "cell_type": "code",
   "execution_count": 125,
   "metadata": {},
   "outputs": [],
   "source": [
    "import gensim.downloader as api"
   ]
  },
  {
   "cell_type": "code",
   "execution_count": 126,
   "metadata": {},
   "outputs": [
    {
     "name": "stdout",
     "output_type": "stream",
     "text": [
      "[==================================================] 100.0% 1662.8/1662.8MB downloaded\n"
     ]
    }
   ],
   "source": [
    "\n",
    "wv = api.load('word2vec-google-news-300')"
   ]
  },
  {
   "cell_type": "code",
   "execution_count": 127,
   "metadata": {},
   "outputs": [
    {
     "data": {
      "text/plain": [
       "array([-3.67187500e-01, -1.21582031e-01,  2.85156250e-01,  8.15429688e-02,\n",
       "        3.19824219e-02, -3.19824219e-02,  1.34765625e-01, -2.73437500e-01,\n",
       "        9.46044922e-03, -1.07421875e-01,  2.48046875e-01, -6.05468750e-01,\n",
       "        5.02929688e-02,  2.98828125e-01,  9.57031250e-02,  1.39648438e-01,\n",
       "       -5.41992188e-02,  2.91015625e-01,  2.85156250e-01,  1.51367188e-01,\n",
       "       -2.89062500e-01, -3.46679688e-02,  1.81884766e-02, -3.92578125e-01,\n",
       "        2.46093750e-01,  2.51953125e-01, -9.86328125e-02,  3.22265625e-01,\n",
       "        4.49218750e-01, -1.36718750e-01, -2.34375000e-01,  4.12597656e-02,\n",
       "       -2.15820312e-01,  1.69921875e-01,  2.56347656e-02,  1.50146484e-02,\n",
       "       -3.75976562e-02,  6.95800781e-03,  4.00390625e-01,  2.09960938e-01,\n",
       "        1.17675781e-01, -4.19921875e-02,  2.34375000e-01,  2.03125000e-01,\n",
       "       -1.86523438e-01, -2.46093750e-01,  3.12500000e-01, -2.59765625e-01,\n",
       "       -1.06933594e-01,  1.04003906e-01, -1.79687500e-01,  5.71289062e-02,\n",
       "       -7.41577148e-03, -5.59082031e-02,  7.61718750e-02, -4.14062500e-01,\n",
       "       -3.65234375e-01, -3.35937500e-01, -1.54296875e-01, -2.39257812e-01,\n",
       "       -3.73046875e-01,  2.27355957e-03, -3.51562500e-01,  8.64257812e-02,\n",
       "        1.26953125e-01,  2.21679688e-01, -9.86328125e-02,  1.08886719e-01,\n",
       "        3.65234375e-01, -5.66406250e-02,  5.66406250e-02, -1.09375000e-01,\n",
       "       -1.66992188e-01, -4.54101562e-02, -2.00195312e-01, -1.22558594e-01,\n",
       "        1.31835938e-01, -1.31835938e-01,  1.03027344e-01, -3.41796875e-01,\n",
       "       -1.57226562e-01,  2.04101562e-01,  4.39453125e-02,  2.44140625e-01,\n",
       "       -3.19824219e-02,  3.20312500e-01, -4.41894531e-02,  1.08398438e-01,\n",
       "       -4.98046875e-02, -9.52148438e-03,  2.46093750e-01, -5.59082031e-02,\n",
       "        4.07714844e-02, -1.78222656e-02, -2.95410156e-02,  1.65039062e-01,\n",
       "        5.03906250e-01, -2.81250000e-01,  9.81445312e-02,  1.80664062e-02,\n",
       "       -1.83593750e-01,  2.53906250e-01,  2.25585938e-01,  1.63574219e-02,\n",
       "        1.81640625e-01,  1.38671875e-01,  3.33984375e-01,  1.39648438e-01,\n",
       "        1.45874023e-02, -2.89306641e-02, -8.39843750e-02,  1.50390625e-01,\n",
       "        1.67968750e-01,  2.28515625e-01,  3.59375000e-01,  1.22558594e-01,\n",
       "       -3.28125000e-01, -1.56250000e-01,  2.77343750e-01,  1.77001953e-02,\n",
       "       -1.46484375e-01, -4.51660156e-03, -4.46777344e-02,  1.75781250e-01,\n",
       "       -3.75000000e-01,  1.16699219e-01, -1.39648438e-01,  2.55859375e-01,\n",
       "       -1.96289062e-01, -2.57568359e-02, -5.41992188e-02, -2.51464844e-02,\n",
       "       -1.93359375e-01, -3.17382812e-02, -8.74023438e-02, -1.32812500e-01,\n",
       "       -2.12402344e-02,  4.33593750e-01, -5.20019531e-02,  3.46679688e-02,\n",
       "        8.00781250e-02,  3.41796875e-02,  1.99218750e-01, -2.39257812e-02,\n",
       "       -2.37304688e-01,  1.93359375e-01,  7.32421875e-02, -2.87109375e-01,\n",
       "        1.25000000e-01,  8.44726562e-02,  1.30859375e-01, -2.19726562e-01,\n",
       "       -1.61132812e-01, -2.63671875e-01, -5.46875000e-01, -2.96875000e-01,\n",
       "        3.44238281e-02, -2.87109375e-01, -1.93359375e-01, -1.61132812e-01,\n",
       "       -3.84765625e-01, -2.14843750e-01, -6.22558594e-03, -1.27929688e-01,\n",
       "       -1.00097656e-01, -6.21093750e-01,  3.78906250e-01, -4.58984375e-01,\n",
       "        1.44531250e-01, -9.13085938e-02, -3.08593750e-01,  2.23632812e-01,\n",
       "        7.86132812e-02, -2.16796875e-01,  8.78906250e-02, -1.66992188e-01,\n",
       "        1.14746094e-02, -2.53906250e-01, -6.25000000e-02,  6.04248047e-03,\n",
       "        1.56250000e-01,  4.37500000e-01, -2.23632812e-01, -2.32421875e-01,\n",
       "        2.75390625e-01,  2.39257812e-01,  4.49218750e-02, -7.51953125e-02,\n",
       "        5.74218750e-01, -2.61230469e-02, -1.21582031e-01,  2.44140625e-01,\n",
       "       -3.37890625e-01,  8.59375000e-02, -7.71484375e-02,  4.85839844e-02,\n",
       "        1.43554688e-01,  4.25781250e-01, -4.29687500e-02, -1.08398438e-01,\n",
       "        1.19628906e-01, -1.91406250e-01, -2.12890625e-01, -2.87109375e-01,\n",
       "       -1.14746094e-01, -2.04101562e-01, -2.06298828e-02, -2.53906250e-01,\n",
       "        8.25195312e-02, -3.97949219e-02, -1.57226562e-01,  1.34765625e-01,\n",
       "        2.08007812e-01, -1.78710938e-01, -2.00195312e-02, -8.34960938e-02,\n",
       "       -1.20605469e-01,  4.29687500e-02, -1.94335938e-01, -1.32812500e-01,\n",
       "       -2.17285156e-02, -2.35351562e-01, -3.63281250e-01,  1.51367188e-01,\n",
       "        9.32617188e-02,  1.63085938e-01,  1.02050781e-01, -4.27734375e-01,\n",
       "        2.83203125e-01,  2.74658203e-04, -3.20312500e-01,  1.68457031e-02,\n",
       "        4.06250000e-01, -5.24902344e-02,  7.91015625e-02, -1.41601562e-01,\n",
       "        5.27343750e-01, -1.26953125e-01,  4.74609375e-01, -6.64062500e-02,\n",
       "        3.41796875e-01, -1.78710938e-01,  3.69140625e-01, -2.05078125e-01,\n",
       "        5.82885742e-03, -1.84570312e-01, -8.88671875e-02, -1.81640625e-01,\n",
       "       -4.80957031e-02,  4.39453125e-01,  2.12890625e-01, -3.07617188e-02,\n",
       "        9.32617188e-02,  2.40234375e-01,  2.39257812e-01,  2.51953125e-01,\n",
       "       -1.98974609e-02,  1.24511719e-01, -4.73632812e-02, -2.13623047e-02,\n",
       "        3.12500000e-02,  3.05175781e-02,  2.79296875e-01,  9.08203125e-02,\n",
       "       -2.02148438e-01, -2.19726562e-02, -2.63671875e-01,  8.78906250e-02,\n",
       "       -1.07421875e-01, -2.49023438e-01, -1.22070312e-02,  1.73828125e-01,\n",
       "       -9.91210938e-02,  7.27539062e-02,  2.59765625e-01, -4.60937500e-01,\n",
       "        3.59375000e-01, -2.25585938e-01,  1.87988281e-02, -2.19726562e-01,\n",
       "       -2.08984375e-01, -1.51367188e-01,  8.64257812e-02,  1.11694336e-02,\n",
       "        6.93359375e-02, -2.99072266e-02,  1.43554688e-01,  1.89453125e-01,\n",
       "       -1.32812500e-01,  4.72656250e-01, -1.40625000e-01, -2.52685547e-02,\n",
       "        1.91406250e-01, -2.63671875e-01, -1.39648438e-01,  1.09375000e-01,\n",
       "        1.97753906e-02,  2.49023438e-01, -1.42578125e-01,  4.15039062e-02],\n",
       "      dtype=float32)"
      ]
     },
     "execution_count": 127,
     "metadata": {},
     "output_type": "execute_result"
    }
   ],
   "source": [
    "vec_cricket = wv['cricket'] #it will have 300 values as 300 dimensions\n",
    "vec_cricket"
   ]
  },
  {
   "cell_type": "code",
   "execution_count": 128,
   "metadata": {},
   "outputs": [
    {
     "data": {
      "text/plain": [
       "(300,)"
      ]
     },
     "execution_count": 128,
     "metadata": {},
     "output_type": "execute_result"
    }
   ],
   "source": [
    "vec_cricket.shape"
   ]
  },
  {
   "cell_type": "code",
   "execution_count": 166,
   "metadata": {},
   "outputs": [
    {
     "data": {
      "text/plain": [
       "[('Google_Nasdaq_GOOG', 0.7819362878799438),\n",
       " ('Google_GOOG', 0.7756521105766296),\n",
       " ('Google_NASDAQ_GOOG', 0.7557772994041443),\n",
       " ('Google_NSDQ_GOOG', 0.7538513541221619),\n",
       " ('Yahoo', 0.7491979598999023),\n",
       " ('GoogleGoogle', 0.7281472682952881),\n",
       " ('search_engine', 0.7255110144615173),\n",
       " ('Google_nasdaq_GOOG', 0.7014852166175842),\n",
       " ('Baidu', 0.6993466019630432),\n",
       " ('NASDAQ_GOOG', 0.6812566518783569)]"
      ]
     },
     "execution_count": 166,
     "metadata": {},
     "output_type": "execute_result"
    }
   ],
   "source": [
    "wv.most_similar('Google')"
   ]
  },
  {
   "cell_type": "code",
   "execution_count": 168,
   "metadata": {},
   "outputs": [
    {
     "data": {
      "text/plain": [
       "[('Steven_Spielberg_Artificial_Intelligence', 0.5575934052467346),\n",
       " ('Index_MDE_##/###/####', 0.5415324568748474),\n",
       " ('Enemy_AI', 0.5256390571594238),\n",
       " ('Ace_Combat_Zero', 0.522663414478302),\n",
       " ('DOA4', 0.5182536840438843),\n",
       " ('mechs', 0.5137375593185425),\n",
       " ('mech', 0.5077533721923828),\n",
       " ('playstyle', 0.5072520971298218),\n",
       " ('AI_bots', 0.5051203370094299),\n",
       " ('deathmatch_mode', 0.504591703414917)]"
      ]
     },
     "execution_count": 168,
     "metadata": {},
     "output_type": "execute_result"
    }
   ],
   "source": [
    "wv.most_similar('AI')"
   ]
  },
  {
   "cell_type": "code",
   "execution_count": 169,
   "metadata": {},
   "outputs": [
    {
     "data": {
      "text/plain": [
       "[('artificial_intelligence', 0.7004302144050598),\n",
       " ('USA_Subjex_Corporation', 0.5363693833351135),\n",
       " ('Artificial_Intelligence_AI', 0.52828049659729),\n",
       " ('Novamente', 0.52488112449646),\n",
       " ('Computational_Intelligence', 0.5138623118400574),\n",
       " ('Ben_Goertzel', 0.5136528611183167),\n",
       " ('Bot_Colony', 0.5046637058258057),\n",
       " ('Artificial_Intelligence_AAAI', 0.5035207867622375),\n",
       " ('Information_Retrieval', 0.5031781792640686),\n",
       " ('Neuroeconomics', 0.49684688448905945)]"
      ]
     },
     "execution_count": 169,
     "metadata": {},
     "output_type": "execute_result"
    }
   ],
   "source": [
    "wv.most_similar('Artificial_Intelligence')"
   ]
  },
  {
   "cell_type": "code",
   "execution_count": 170,
   "metadata": {},
   "outputs": [
    {
     "data": {
      "text/plain": [
       "[('Adolf_Hitler', 0.8693075180053711),\n",
       " ('Adolph_Hitler', 0.8060617446899414),\n",
       " ('Nazis', 0.7699975371360779),\n",
       " ('Nazi', 0.7654680609703064),\n",
       " ('Hilter', 0.7460282444953918),\n",
       " ('Third_Reich', 0.7436984777450562),\n",
       " ('Nazi_Germany', 0.7407962083816528),\n",
       " ('Führer', 0.716090202331543),\n",
       " ('Nazism', 0.6866580247879028),\n",
       " ('Goebbels', 0.6627063155174255)]"
      ]
     },
     "execution_count": 170,
     "metadata": {},
     "output_type": "execute_result"
    }
   ],
   "source": [
    "wv.most_similar('Hitler')"
   ]
  },
  {
   "cell_type": "code",
   "execution_count": 171,
   "metadata": {},
   "outputs": [
    {
     "data": {
      "text/plain": [
       "[('arabs', 0.703646183013916),\n",
       " ('jewish', 0.6818789839744568),\n",
       " ('Jews', 0.6657212972640991),\n",
       " ('muslims', 0.662420392036438),\n",
       " ('palestinians', 0.6185414791107178),\n",
       " ('zionists', 0.6171693801879883),\n",
       " ('palestine', 0.6166346073150635),\n",
       " ('jew', 0.6068050861358643),\n",
       " ('pakistanis', 0.6040884852409363),\n",
       " ('kikes', 0.6004521250724792)]"
      ]
     },
     "execution_count": 171,
     "metadata": {},
     "output_type": "execute_result"
    }
   ],
   "source": [
    "wv.most_similar('jews')"
   ]
  },
  {
   "cell_type": "code",
   "execution_count": 173,
   "metadata": {},
   "outputs": [
    {
     "data": {
      "text/plain": [
       "[('brains', 0.7413849830627441),\n",
       " ('frontal_lobe', 0.718148410320282),\n",
       " ('cerebellum', 0.698017418384552),\n",
       " ('cerebral_cortex', 0.6879504323005676),\n",
       " ('temporal_lobe', 0.658434271812439),\n",
       " ('cortex', 0.6564251780509949),\n",
       " ('brainstem', 0.6540578603744507),\n",
       " ('frontal_lobes', 0.6527895331382751),\n",
       " ('neural', 0.650603175163269),\n",
       " ('brain_frontal_lobe', 0.6460928916931152)]"
      ]
     },
     "execution_count": 173,
     "metadata": {},
     "output_type": "execute_result"
    }
   ],
   "source": [
    "wv.most_similar('brain')"
   ]
  },
  {
   "cell_type": "code",
   "execution_count": 129,
   "metadata": {},
   "outputs": [
    {
     "data": {
      "text/plain": [
       "[('cricketing', 0.8372224569320679),\n",
       " ('cricketers', 0.8165745139122009),\n",
       " ('Test_cricket', 0.8094819188117981),\n",
       " ('Twenty##_cricket', 0.8068488240242004),\n",
       " ('Twenty##', 0.7624265551567078),\n",
       " ('Cricket', 0.75413978099823),\n",
       " ('cricketer', 0.7372578382492065),\n",
       " ('twenty##', 0.7316356897354126),\n",
       " ('T##_cricket', 0.7304614186286926),\n",
       " ('West_Indies_cricket', 0.6987985968589783)]"
      ]
     },
     "execution_count": 129,
     "metadata": {},
     "output_type": "execute_result"
    }
   ],
   "source": [
    "wv.most_similar('cricket')"
   ]
  },
  {
   "cell_type": "code",
   "execution_count": 130,
   "metadata": {},
   "outputs": [
    {
     "data": {
      "text/plain": [
       "[('Facebook', 0.7563532590866089),\n",
       " ('FaceBook', 0.7076999545097351),\n",
       " ('twitter', 0.6988552212715149),\n",
       " ('myspace', 0.6941817998886108),\n",
       " ('Twitter', 0.664244532585144),\n",
       " ('twitter_facebook', 0.6572229862213135),\n",
       " ('Facebook.com', 0.6529868245124817),\n",
       " ('myspace_facebook', 0.6370643973350525),\n",
       " ('facebook_twitter', 0.6367617845535278),\n",
       " ('linkedin', 0.6356593370437622)]"
      ]
     },
     "execution_count": 130,
     "metadata": {},
     "output_type": "execute_result"
    }
   ],
   "source": [
    "wv.most_similar('facebook')"
   ]
  },
  {
   "cell_type": "code",
   "execution_count": 131,
   "metadata": {},
   "outputs": [
    {
     "data": {
      "text/plain": [
       "[('på', 0.6145849823951721),\n",
       " ('aan', 0.61150723695755),\n",
       " ('ter', 0.6017831563949585),\n",
       " ('ne', 0.6013097167015076),\n",
       " ('waar', 0.594710648059845),\n",
       " ('moet', 0.5922201871871948),\n",
       " ('te', 0.5908597707748413),\n",
       " ('denne', 0.5897035598754883),\n",
       " ('naar', 0.5896697044372559),\n",
       " ('gaan', 0.5889247059822083)]"
      ]
     },
     "execution_count": 131,
     "metadata": {},
     "output_type": "execute_result"
    }
   ],
   "source": [
    "wv.most_similar('om')"
   ]
  },
  {
   "cell_type": "code",
   "execution_count": 155,
   "metadata": {},
   "outputs": [
    {
     "data": {
      "text/plain": [
       "[('eduction', 0.7980327010154724),\n",
       " ('eduation', 0.7175650000572205),\n",
       " ('LISA_MICHALS_covers', 0.6817380785942078),\n",
       " ('Matt_Krupnick_covers', 0.6798164248466492),\n",
       " ('educational', 0.678000807762146),\n",
       " ('educa_tion', 0.661638081073761),\n",
       " ('edu_cation', 0.6534408926963806),\n",
       " ('educations', 0.6410858035087585),\n",
       " ('professionals_CEC_SmartBrief', 0.6308876872062683),\n",
       " ('curriculum', 0.6266545653343201)]"
      ]
     },
     "execution_count": 155,
     "metadata": {},
     "output_type": "execute_result"
    }
   ],
   "source": [
    "wv.most_similar('education')"
   ]
  },
  {
   "cell_type": "code",
   "execution_count": 157,
   "metadata": {},
   "outputs": [
    {
     "data": {
      "text/plain": [
       "[('india', 0.6967040300369263),\n",
       " ('american', 0.6599414944648743),\n",
       " ('indians', 0.6493048667907715),\n",
       " ('pakistani', 0.6424943208694458),\n",
       " ('british', 0.6309670209884644),\n",
       " ('chinese', 0.6180857419967651),\n",
       " ('sri_lankan', 0.6162428259849548),\n",
       " ('pakistan', 0.6157864332199097),\n",
       " ('malaysian', 0.602706789970398),\n",
       " ('tamil', 0.6002824306488037)]"
      ]
     },
     "execution_count": 157,
     "metadata": {},
     "output_type": "execute_result"
    }
   ],
   "source": [
    "wv.most_similar('indian')"
   ]
  },
  {
   "cell_type": "code",
   "execution_count": 158,
   "metadata": {},
   "outputs": [
    {
     "data": {
      "text/plain": [
       "[('Hindus', 0.7838510870933533),\n",
       " ('Sikh', 0.6908060908317566),\n",
       " ('Hinduism', 0.6554391384124756),\n",
       " ('Vaishnavite', 0.6438902020454407),\n",
       " ('Hindu_fundamentalist', 0.6376325488090515),\n",
       " ('rightwing_Hindu', 0.6299793720245361),\n",
       " ('Guru_Ravidass', 0.6258084774017334),\n",
       " ('Muslim', 0.6226926445960999),\n",
       " ('Hindu_fundamentalists', 0.6214293241500854),\n",
       " ('sikh', 0.6199694275856018)]"
      ]
     },
     "execution_count": 158,
     "metadata": {},
     "output_type": "execute_result"
    }
   ],
   "source": [
    "wv.most_similar('Hindu')"
   ]
  },
  {
   "cell_type": "code",
   "execution_count": 159,
   "metadata": {},
   "outputs": [
    {
     "data": {
      "text/plain": [
       "[('Samajwadi_Party', 0.8747575283050537),\n",
       " ('RJD', 0.871252715587616),\n",
       " ('Bharatiya_Janata_Party', 0.8632032871246338),\n",
       " ('CPI_M', 0.858258068561554),\n",
       " ('JD_U', 0.8575517535209656),\n",
       " ('UPA', 0.8353379964828491),\n",
       " ('Mulayam', 0.8294427394866943),\n",
       " ('JD_S', 0.8213956356048584),\n",
       " ('DMK', 0.8201932907104492),\n",
       " ('Nitish_Kumar', 0.8185547590255737)]"
      ]
     },
     "execution_count": 159,
     "metadata": {},
     "output_type": "execute_result"
    }
   ],
   "source": [
    "wv.most_similar('BJP')"
   ]
  },
  {
   "cell_type": "code",
   "execution_count": 165,
   "metadata": {},
   "outputs": [
    {
     "data": {
      "text/plain": [
       "[('Reliance', 0.7896878123283386),\n",
       " ('Tata', 0.7583782076835632),\n",
       " ('Reliance_Industries', 0.6783670783042908),\n",
       " ('Tatas', 0.6754528880119324),\n",
       " ('RIL', 0.6713529825210571),\n",
       " ('Ambani', 0.664646327495575),\n",
       " ('Anil_Ambani', 0.6604036092758179),\n",
       " ('TATA', 0.6554300785064697),\n",
       " ('Bharti', 0.6534833908081055),\n",
       " ('Mukesh', 0.6437507271766663)]"
      ]
     },
     "execution_count": 165,
     "metadata": {},
     "output_type": "execute_result"
    }
   ],
   "source": [
    "vec = wv['modi'] + wv['Tata'] + wv['Reliance'] + wv['rich']\n",
    "wv.most_similar([vec])"
   ]
  },
  {
   "cell_type": "code",
   "execution_count": 156,
   "metadata": {},
   "outputs": [
    {
     "data": {
      "text/plain": [
       "[('india', 0.7433088421821594),\n",
       " ('education', 0.589250385761261),\n",
       " ('system', 0.5695293545722961),\n",
       " ('america', 0.5655617117881775),\n",
       " ('pakistan', 0.5632794499397278),\n",
       " ('sytem', 0.5632182359695435),\n",
       " ('indian', 0.5361905694007874),\n",
       " ('punjab', 0.5309917330741882),\n",
       " ('eduction', 0.5308288335800171),\n",
       " ('canada', 0.529075562953949)]"
      ]
     },
     "execution_count": 156,
     "metadata": {},
     "output_type": "execute_result"
    }
   ],
   "source": [
    "vec = wv['india'] + wv['education'] + wv['system']\n",
    "wv.most_similar([vec])"
   ]
  },
  {
   "cell_type": "code",
   "execution_count": 151,
   "metadata": {},
   "outputs": [
    {
     "data": {
      "text/plain": [
       "[('sexual', 0.7694741487503052),\n",
       " ('oral_sex', 0.6738982796669006),\n",
       " ('sexual_intercourse', 0.6690444946289062),\n",
       " ('intercourse', 0.6402736902236938),\n",
       " ('anal_sex', 0.6372365951538086),\n",
       " ('sexual_encounters', 0.6306261420249939),\n",
       " ('Chastity_Bono_announces', 0.6105126738548279),\n",
       " ('prostitution', 0.5989327430725098),\n",
       " ('Sex', 0.5975605845451355),\n",
       " ('masturbation', 0.5959034562110901)]"
      ]
     },
     "execution_count": 151,
     "metadata": {},
     "output_type": "execute_result"
    }
   ],
   "source": [
    "wv.most_similar('sex')"
   ]
  },
  {
   "cell_type": "code",
   "execution_count": 141,
   "metadata": {},
   "outputs": [
    {
     "data": {
      "text/plain": [
       "[('Sanath', 0.6505971550941467),\n",
       " ('Sachin', 0.6505815386772156),\n",
       " ('Sourav', 0.6439367532730103),\n",
       " ('Ranadeb', 0.643051266670227),\n",
       " ('Saurav', 0.6387004852294922),\n",
       " ('Laxman', 0.6353415250778198),\n",
       " ('Ganguly', 0.6286967396736145),\n",
       " ('Yuvraj', 0.625824511051178),\n",
       " ('Kanitkar', 0.6231240034103394),\n",
       " ('Chandana', 0.6186356544494629)]"
      ]
     },
     "execution_count": 141,
     "metadata": {},
     "output_type": "execute_result"
    }
   ],
   "source": [
    "wv.most_similar('Virat')"
   ]
  },
  {
   "cell_type": "code",
   "execution_count": 133,
   "metadata": {},
   "outputs": [
    {
     "data": {
      "text/plain": [
       "0.2883053"
      ]
     },
     "execution_count": 133,
     "metadata": {},
     "output_type": "execute_result"
    }
   ],
   "source": [
    "#Comparing 2 objects\n",
    "\n",
    "wv.similarity('man','women')"
   ]
  },
  {
   "cell_type": "code",
   "execution_count": 140,
   "metadata": {},
   "outputs": [
    {
     "data": {
      "text/plain": [
       "'bottle'"
      ]
     },
     "execution_count": 140,
     "metadata": {},
     "output_type": "execute_result"
    }
   ],
   "source": [
    "# Find odd in out\n",
    "wv.doesnt_match(['tiger','lion','bottle','monkey'])"
   ]
  },
  {
   "cell_type": "code",
   "execution_count": 136,
   "metadata": {},
   "outputs": [
    {
     "data": {
      "text/plain": [
       "[('king', 0.6478992104530334),\n",
       " ('queen', 0.535493791103363),\n",
       " ('women', 0.52336585521698),\n",
       " ('kings', 0.5162314772605896),\n",
       " ('queens', 0.4995364844799042),\n",
       " ('kumaris', 0.492384672164917),\n",
       " ('princes', 0.46233269572257996),\n",
       " ('monarch', 0.4528028964996338),\n",
       " ('monarchy', 0.429317444562912),\n",
       " ('kings_princes', 0.42342400550842285)]"
      ]
     },
     "execution_count": 136,
     "metadata": {},
     "output_type": "execute_result"
    }
   ],
   "source": [
    "ans = (wv['king'] - wv['man']) + wv['women']\n",
    "wv.most_similar([ans])"
   ]
  },
  {
   "cell_type": "code",
   "execution_count": 143,
   "metadata": {},
   "outputs": [
    {
     "data": {
      "text/plain": [
       "[('education', 0.6813852787017822),\n",
       " ('society', 0.6670683026313782),\n",
       " ('eduction', 0.5541669130325317),\n",
       " ('eduation', 0.5490455031394958),\n",
       " ('societies', 0.49036842584609985),\n",
       " ('educa_tion', 0.48864564299583435),\n",
       " ('educational', 0.48538222908973694),\n",
       " ('ed_ucation', 0.481196790933609),\n",
       " ('Lifelong_learning', 0.4784870147705078),\n",
       " ('Educational_attainment', 0.47661200165748596)]"
      ]
     },
     "execution_count": 143,
     "metadata": {},
     "output_type": "execute_result"
    }
   ],
   "source": [
    "x = (wv['society'] - wv['movie']) + wv['education']\n",
    "wv.most_similar([x])"
   ]
  },
  {
   "cell_type": "code",
   "execution_count": 146,
   "metadata": {},
   "outputs": [
    {
     "data": {
      "text/plain": [
       "[('Man', 0.7344020009040833),\n",
       " ('Woman', 0.5112388134002686),\n",
       " ('Capri_Pacing_Series', 0.41140201687812805),\n",
       " ('Suspect', 0.4090985953807831),\n",
       " ('Robber', 0.39425453543663025),\n",
       " ('Assailant', 0.3806186318397522),\n",
       " ('Panhandler', 0.3780188262462616),\n",
       " ('Capri_Casinos_ISLE', 0.37684619426727295),\n",
       " ('Capri_ISLE', 0.37642166018486023),\n",
       " ('Shoplifter', 0.3727079927921295)]"
      ]
     },
     "execution_count": 146,
     "metadata": {},
     "output_type": "execute_result"
    }
   ],
   "source": [
    "x = (wv['Man'] - wv['love']) \n",
    "wv.most_similar([x])"
   ]
  },
  {
   "cell_type": "code",
   "execution_count": 149,
   "metadata": {},
   "outputs": [
    {
     "data": {
      "text/plain": [
       "[('Woman', 0.5213946104049683),\n",
       " ('she', 0.4338246285915375),\n",
       " ('Women', 0.4303523898124695),\n",
       " ('her', 0.4228554666042328),\n",
       " ('Businesswoman', 0.3960265517234802),\n",
       " ('Businesswomen', 0.38523033261299133),\n",
       " ('woman', 0.3851962983608246),\n",
       " ('Womens', 0.38073423504829407),\n",
       " ('Women_Entrepreneurs', 0.373238205909729),\n",
       " ('Unsung_Heroines', 0.3685576319694519)]"
      ]
     },
     "execution_count": 149,
     "metadata": {},
     "output_type": "execute_result"
    }
   ],
   "source": [
    "x = (wv['Woman'] - wv['Man']) \n",
    "wv.most_similar([x])"
   ]
  },
  {
   "cell_type": "code",
   "execution_count": 150,
   "metadata": {},
   "outputs": [
    {
     "data": {
      "text/plain": [
       "[('Malpede_senior', 0.29912400245666504),\n",
       " ('Greg_Gorbatenko_telecommunications', 0.2917774021625519),\n",
       " ('Uncle', 0.27213042974472046),\n",
       " ('Chelski', 0.2687279284000397),\n",
       " ('Mancs', 0.2666052579879761),\n",
       " ('frontmen', 0.2652149200439453),\n",
       " ('change.The', 0.2642357349395752),\n",
       " ('stickman', 0.255386620759964),\n",
       " ('jenas', 0.2551044225692749),\n",
       " ('analyst_Mamoun_Tazi', 0.25466635823249817)]"
      ]
     },
     "execution_count": 150,
     "metadata": {},
     "output_type": "execute_result"
    }
   ],
   "source": [
    "x = (wv['Man'] - wv['Woman']) \n",
    "wv.most_similar([x])"
   ]
  },
  {
   "cell_type": "markdown",
   "metadata": {},
   "source": [
    "## TF-IDF"
   ]
  },
  {
   "cell_type": "code",
   "execution_count": 174,
   "metadata": {},
   "outputs": [],
   "source": [
    "from sklearn.feature_extraction.text import TfidfVectorizer\n",
    "tv = TfidfVectorizer()"
   ]
  },
  {
   "cell_type": "code",
   "execution_count": 175,
   "metadata": {},
   "outputs": [
    {
     "data": {
      "text/plain": [
       "array([[0.        , 0.49681612, 0.61366674, 0.61366674, 0.        ],\n",
       "       [0.        , 0.8508161 , 0.        , 0.52546357, 0.        ],\n",
       "       [0.57735027, 0.        , 0.57735027, 0.        , 0.57735027],\n",
       "       [0.61366674, 0.49681612, 0.        , 0.        , 0.61366674]])"
      ]
     },
     "execution_count": 175,
     "metadata": {},
     "output_type": "execute_result"
    }
   ],
   "source": [
    "tv.fit_transform(df['text']).toarray() #Useful for IR(Information Retrieval)"
   ]
  },
  {
   "cell_type": "code",
   "execution_count": 176,
   "metadata": {},
   "outputs": [
    {
     "name": "stdout",
     "output_type": "stream",
     "text": [
      "[1.51082562 1.22314355 1.51082562 1.51082562 1.51082562]\n"
     ]
    }
   ],
   "source": [
    "print(tv.idf_)"
   ]
  },
  {
   "cell_type": "code",
   "execution_count": 177,
   "metadata": {},
   "outputs": [
    {
     "name": "stdout",
     "output_type": "stream",
     "text": [
      "['comments' 'facebook' 'people' 'watch' 'write']\n"
     ]
    }
   ],
   "source": [
    "print(tv.get_feature_names_out())"
   ]
  }
 ],
 "metadata": {
  "kernelspec": {
   "display_name": "base",
   "language": "python",
   "name": "python3"
  },
  "language_info": {
   "codemirror_mode": {
    "name": "ipython",
    "version": 3
   },
   "file_extension": ".py",
   "mimetype": "text/x-python",
   "name": "python",
   "nbconvert_exporter": "python",
   "pygments_lexer": "ipython3",
   "version": "3.12.1"
  }
 },
 "nbformat": 4,
 "nbformat_minor": 2
}
